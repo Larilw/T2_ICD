{
 "cells": [
  {
   "attachments": {},
   "cell_type": "markdown",
   "metadata": {},
   "source": [
    "# Trabalho 2 - Introdução à Ciência de Dados\n",
    "\n",
    "### Larissa Lewartoski Wong\n",
    "\n",
    "## Dataset escolhido: Diabetes\n",
    "\n",
    "#### O dataset está disponível em: https://www.openml.org/search?type=data&sort=runs&id=37&status=active"
   ]
  },
  {
   "attachments": {},
   "cell_type": "markdown",
   "metadata": {},
   "source": [
    "## Definição do dataset\n",
    "\n",
    "* O dados que integram o dataset são referentes à mulheres com pelo menos 21 anos com herança dos Pima (povo nativo dos Estados Unidos da América).\n",
    "* O objetivo do dataset é predizer se uma paciente tem diabetes com base em outras medidas de diagnóstico.\n",
    "* Este dataset foi criado com dados de outro dataset maior, por meio de restrições.\n",
    "* Possui 8 atributos (e a classe)\n",
    "* Possui 768 instâncias\n",
    "* Todos os atributos são numéricos. Apenas a classe sendo atributo nominal.\n",
    "\n",
    "#### Em relação aos atributos:\n",
    "\n",
    "- class(target): é o atributo que classifica se testou positivo ou negativo para diabetes;\n",
    "- preg: número de vezes em que esteve grávida;\n",
    "- plas: concentração de glicose plasmática obtida em teste de oral tolerância à glicose;\n",
    "- pres: pressão sanguínea diastólica;\n",
    "- skin: grossura da pele da dobra do tríceps;\n",
    "- insu: insulina sérica de duas horas (professor não faço ideia do que seja isso);\n",
    "- mass: índice de massa corporal;\n",
    "- pedi: função de pedigree de diabetes (função que estima a chance de desenvolvimento de diabetes baseada em histórico familiar);\n",
    "- age: idade da paciente.\n",
    "\n",
    "#### Em relação à distribuição de classes: a distribuição é analisada no documento, obtendo 65.1% de testes negativos e 35.9% de testes positivos."
   ]
  },
  {
   "attachments": {},
   "cell_type": "markdown",
   "metadata": {},
   "source": [
    "### Imports necessários"
   ]
  },
  {
   "cell_type": "code",
   "execution_count": 37,
   "metadata": {},
   "outputs": [],
   "source": [
    "import numpy as np\n",
    "import pandas as pd\n",
    "from matplotlib import pyplot as plt\n",
    "from sklearn.preprocessing import MinMaxScaler\n",
    "from sklearn.model_selection import KFold\n",
    "from sklearn.neighbors import KNeighborsClassifier\n",
    "from sklearn.metrics import accuracy_score, mean_squared_error\n",
    "from fancyimpute import IterativeImputer\n",
    "from scipy.stats import ttest_ind\n"
   ]
  },
  {
   "attachments": {},
   "cell_type": "markdown",
   "metadata": {},
   "source": [
    "## Carregando o dataset\n",
    "\n",
    "#### A variável header nomeia as colunas\n",
    "\n",
    "#### Os parâmetros passados para a função read_csv incluem:\n",
    "* comment='@' - para ignorar as linhas que se iniciam com @\n",
    "* skiprows - para ignorar as linhas anteriores à 84 (foi observado no arquivo arff que os dados começam após essas linhas)"
   ]
  },
  {
   "cell_type": "code",
   "execution_count": 38,
   "metadata": {},
   "outputs": [],
   "source": [
    "header = ['preg', 'plas', 'pres', 'skin', 'insu', 'mass', 'pedi', 'age', 'class']\n",
    "diabetes = pd.read_csv('dataset_37_diabetes.arff', comment='@', skiprows=84, header=None, na_values=['?'], names=header)"
   ]
  },
  {
   "cell_type": "code",
   "execution_count": 39,
   "metadata": {},
   "outputs": [
    {
     "data": {
      "text/html": [
       "<div>\n",
       "<style scoped>\n",
       "    .dataframe tbody tr th:only-of-type {\n",
       "        vertical-align: middle;\n",
       "    }\n",
       "\n",
       "    .dataframe tbody tr th {\n",
       "        vertical-align: top;\n",
       "    }\n",
       "\n",
       "    .dataframe thead th {\n",
       "        text-align: right;\n",
       "    }\n",
       "</style>\n",
       "<table border=\"1\" class=\"dataframe\">\n",
       "  <thead>\n",
       "    <tr style=\"text-align: right;\">\n",
       "      <th></th>\n",
       "      <th>preg</th>\n",
       "      <th>plas</th>\n",
       "      <th>pres</th>\n",
       "      <th>skin</th>\n",
       "      <th>insu</th>\n",
       "      <th>mass</th>\n",
       "      <th>pedi</th>\n",
       "      <th>age</th>\n",
       "      <th>class</th>\n",
       "    </tr>\n",
       "  </thead>\n",
       "  <tbody>\n",
       "    <tr>\n",
       "      <th>0</th>\n",
       "      <td>6</td>\n",
       "      <td>148</td>\n",
       "      <td>72</td>\n",
       "      <td>35</td>\n",
       "      <td>0</td>\n",
       "      <td>33.6</td>\n",
       "      <td>0.627</td>\n",
       "      <td>50</td>\n",
       "      <td>tested_positive</td>\n",
       "    </tr>\n",
       "    <tr>\n",
       "      <th>1</th>\n",
       "      <td>1</td>\n",
       "      <td>85</td>\n",
       "      <td>66</td>\n",
       "      <td>29</td>\n",
       "      <td>0</td>\n",
       "      <td>26.6</td>\n",
       "      <td>0.351</td>\n",
       "      <td>31</td>\n",
       "      <td>tested_negative</td>\n",
       "    </tr>\n",
       "    <tr>\n",
       "      <th>2</th>\n",
       "      <td>8</td>\n",
       "      <td>183</td>\n",
       "      <td>64</td>\n",
       "      <td>0</td>\n",
       "      <td>0</td>\n",
       "      <td>23.3</td>\n",
       "      <td>0.672</td>\n",
       "      <td>32</td>\n",
       "      <td>tested_positive</td>\n",
       "    </tr>\n",
       "    <tr>\n",
       "      <th>3</th>\n",
       "      <td>1</td>\n",
       "      <td>89</td>\n",
       "      <td>66</td>\n",
       "      <td>23</td>\n",
       "      <td>94</td>\n",
       "      <td>28.1</td>\n",
       "      <td>0.167</td>\n",
       "      <td>21</td>\n",
       "      <td>tested_negative</td>\n",
       "    </tr>\n",
       "    <tr>\n",
       "      <th>4</th>\n",
       "      <td>0</td>\n",
       "      <td>137</td>\n",
       "      <td>40</td>\n",
       "      <td>35</td>\n",
       "      <td>168</td>\n",
       "      <td>43.1</td>\n",
       "      <td>2.288</td>\n",
       "      <td>33</td>\n",
       "      <td>tested_positive</td>\n",
       "    </tr>\n",
       "    <tr>\n",
       "      <th>...</th>\n",
       "      <td>...</td>\n",
       "      <td>...</td>\n",
       "      <td>...</td>\n",
       "      <td>...</td>\n",
       "      <td>...</td>\n",
       "      <td>...</td>\n",
       "      <td>...</td>\n",
       "      <td>...</td>\n",
       "      <td>...</td>\n",
       "    </tr>\n",
       "    <tr>\n",
       "      <th>763</th>\n",
       "      <td>10</td>\n",
       "      <td>101</td>\n",
       "      <td>76</td>\n",
       "      <td>48</td>\n",
       "      <td>180</td>\n",
       "      <td>32.9</td>\n",
       "      <td>0.171</td>\n",
       "      <td>63</td>\n",
       "      <td>tested_negative</td>\n",
       "    </tr>\n",
       "    <tr>\n",
       "      <th>764</th>\n",
       "      <td>2</td>\n",
       "      <td>122</td>\n",
       "      <td>70</td>\n",
       "      <td>27</td>\n",
       "      <td>0</td>\n",
       "      <td>36.8</td>\n",
       "      <td>0.340</td>\n",
       "      <td>27</td>\n",
       "      <td>tested_negative</td>\n",
       "    </tr>\n",
       "    <tr>\n",
       "      <th>765</th>\n",
       "      <td>5</td>\n",
       "      <td>121</td>\n",
       "      <td>72</td>\n",
       "      <td>23</td>\n",
       "      <td>112</td>\n",
       "      <td>26.2</td>\n",
       "      <td>0.245</td>\n",
       "      <td>30</td>\n",
       "      <td>tested_negative</td>\n",
       "    </tr>\n",
       "    <tr>\n",
       "      <th>766</th>\n",
       "      <td>1</td>\n",
       "      <td>126</td>\n",
       "      <td>60</td>\n",
       "      <td>0</td>\n",
       "      <td>0</td>\n",
       "      <td>30.1</td>\n",
       "      <td>0.349</td>\n",
       "      <td>47</td>\n",
       "      <td>tested_positive</td>\n",
       "    </tr>\n",
       "    <tr>\n",
       "      <th>767</th>\n",
       "      <td>1</td>\n",
       "      <td>93</td>\n",
       "      <td>70</td>\n",
       "      <td>31</td>\n",
       "      <td>0</td>\n",
       "      <td>30.4</td>\n",
       "      <td>0.315</td>\n",
       "      <td>23</td>\n",
       "      <td>tested_negative</td>\n",
       "    </tr>\n",
       "  </tbody>\n",
       "</table>\n",
       "<p>768 rows × 9 columns</p>\n",
       "</div>"
      ],
      "text/plain": [
       "     preg  plas  pres  skin  insu  mass   pedi  age            class\n",
       "0       6   148    72    35     0  33.6  0.627   50  tested_positive\n",
       "1       1    85    66    29     0  26.6  0.351   31  tested_negative\n",
       "2       8   183    64     0     0  23.3  0.672   32  tested_positive\n",
       "3       1    89    66    23    94  28.1  0.167   21  tested_negative\n",
       "4       0   137    40    35   168  43.1  2.288   33  tested_positive\n",
       "..    ...   ...   ...   ...   ...   ...    ...  ...              ...\n",
       "763    10   101    76    48   180  32.9  0.171   63  tested_negative\n",
       "764     2   122    70    27     0  36.8  0.340   27  tested_negative\n",
       "765     5   121    72    23   112  26.2  0.245   30  tested_negative\n",
       "766     1   126    60     0     0  30.1  0.349   47  tested_positive\n",
       "767     1    93    70    31     0  30.4  0.315   23  tested_negative\n",
       "\n",
       "[768 rows x 9 columns]"
      ]
     },
     "execution_count": 39,
     "metadata": {},
     "output_type": "execute_result"
    }
   ],
   "source": [
    "diabetes"
   ]
  },
  {
   "attachments": {},
   "cell_type": "markdown",
   "metadata": {},
   "source": [
    "## Convertendo Nominais em Numéricos\n",
    "\n",
    "* Testes positivos serão convertidos em 1\n",
    "* Testes negativos em 0 "
   ]
  },
  {
   "cell_type": "code",
   "execution_count": 40,
   "metadata": {},
   "outputs": [],
   "source": [
    "diabetes['class'] = [0 if x == 'tested_negative' else 1 for x in diabetes['class']]\n",
    "diabetes_default = diabetes.copy()"
   ]
  },
  {
   "attachments": {},
   "cell_type": "markdown",
   "metadata": {},
   "source": [
    "## Tratando valores ausentes\n",
    "\n",
    "#### Observou-se que os valores ausentes estão representados como 0 em alguns atributos como insulina"
   ]
  },
  {
   "cell_type": "code",
   "execution_count": 41,
   "metadata": {},
   "outputs": [],
   "source": [
    "colunas_substituir = ['plas', 'pres', 'skin', 'insu', 'mass', 'pedi']\n",
    "diabetes[colunas_substituir] = diabetes[colunas_substituir].replace(0, np.nan)"
   ]
  },
  {
   "attachments": {},
   "cell_type": "markdown",
   "metadata": {},
   "source": [
    "### Utilizando MICE para completar os atributos faltantes"
   ]
  },
  {
   "cell_type": "code",
   "execution_count": 42,
   "metadata": {},
   "outputs": [],
   "source": [
    "imputer = IterativeImputer()\n",
    "\n",
    "diabetes_imputado = imputer.fit_transform(diabetes)\n",
    "diabetes_imputado = pd.DataFrame(diabetes_imputado, columns=diabetes.columns)"
   ]
  },
  {
   "attachments": {},
   "cell_type": "markdown",
   "metadata": {},
   "source": [
    "## Normalizando os dados"
   ]
  },
  {
   "cell_type": "code",
   "execution_count": 43,
   "metadata": {},
   "outputs": [],
   "source": [
    "scaler = MinMaxScaler()\n",
    "diabetes_norm = pd.DataFrame(scaler.fit_transform(diabetes_default), columns= diabetes_default.columns)\n",
    "diabetes_norm_mice = pd.DataFrame(scaler.fit_transform(diabetes_imputado), columns = diabetes_imputado.columns)"
   ]
  },
  {
   "attachments": {},
   "cell_type": "markdown",
   "metadata": {},
   "source": [
    "## Verificando a distribuição de classes\n",
    "\n",
    "* Com base na distribuição de classes obtida foi escolhido não realizar o balanceamento"
   ]
  },
  {
   "cell_type": "code",
   "execution_count": 44,
   "metadata": {},
   "outputs": [
    {
     "name": "stdout",
     "output_type": "stream",
     "text": [
      "Negatives: 500 | Positives: 268\n"
     ]
    },
    {
     "data": {
      "text/plain": [
       "<matplotlib.legend.Legend at 0x2a3ffe43940>"
      ]
     },
     "execution_count": 44,
     "metadata": {},
     "output_type": "execute_result"
    },
    {
     "data": {
      "image/png": "[encoded data removed]",
      "text/plain": [
       "<Figure size 700x600 with 1 Axes>"
      ]
     },
     "metadata": {},
     "output_type": "display_data"
    }
   ],
   "source": [
    "zero = diabetes_norm[diabetes_norm['class'] == 0]['class'].size\n",
    "one = diabetes_norm[diabetes_norm['class'] == 1]['class'].size\n",
    "\n",
    "size = diabetes_norm['class'].size\n",
    "zero_label = str(round(zero*100/diabetes_norm['class'].size, 2)) + \" %\"\n",
    "one_label = str(round(one*100/diabetes_norm['class'].size, 2)) + \" %\"\n",
    "\n",
    "print('Negatives: {} | Positives: {}'.format(zero, one))\n",
    "fig = plt.figure(figsize = (7, 6))\n",
    "plt.bar([zero_label,one_label], [zero, one], color =['lightcoral', 'dodgerblue'],\n",
    "        width = 0.4)\n",
    "plt.xlabel(\"Classes\")\n",
    "plt.ylabel(\"Quantidade de registros\")\n",
    "plt.title(\"Distribuição das classes\")\n",
    "colors = {'Negativo':'lightcoral', 'Positivo':'dodgerblue'}         \n",
    "labels = list(colors.keys())\n",
    "handles = [plt.Rectangle((0,0),1,1, color=colors[label]) for label in labels]\n",
    "plt.legend(handles, labels)"
   ]
  },
  {
   "attachments": {},
   "cell_type": "markdown",
   "metadata": {},
   "source": [
    "## Separando o dataset em 5 folds\n",
    "\n",
    "* Serão geradas 5 partes iguais para realização de comparação posterior. Foram escolhidas 5 partes em razão do tamanho do dataset, para não resultar em partes muito pequenas."
   ]
  },
  {
   "cell_type": "code",
   "execution_count": 45,
   "metadata": {},
   "outputs": [],
   "source": [
    "kf = KFold(n_splits=5)"
   ]
  },
  {
   "attachments": {},
   "cell_type": "markdown",
   "metadata": {},
   "source": [
    "# Classificador default\n",
    "\n",
    "* Para o classificador default foram utilizados os parâmetros definidos na especificação do trabalho:\n",
    "    - K = 3\n",
    "    - Distância Euclideana\n",
    "\n",
    "As etapas de pré processamento para aplicação do KNN foram realizadas acima (normalização e conversão para atributos numéricos)"
   ]
  },
  {
   "cell_type": "code",
   "execution_count": 46,
   "metadata": {},
   "outputs": [],
   "source": [
    "knn_default = KNeighborsClassifier(n_neighbors=3, metric='euclidean')\n",
    "\n",
    "X_default = diabetes_norm.drop(['class'], axis=1)\n",
    "y_default = diabetes_norm['class']"
   ]
  },
  {
   "attachments": {},
   "cell_type": "markdown",
   "metadata": {},
   "source": [
    "## Acurácia para o default utilizando 5-fold cross validation"
   ]
  },
  {
   "attachments": {},
   "cell_type": "markdown",
   "metadata": {},
   "source": [
    "- KNN sem mice com k=3 e distância euclideana"
   ]
  },
  {
   "cell_type": "code",
   "execution_count": 47,
   "metadata": {},
   "outputs": [
    {
     "name": "stdout",
     "output_type": "stream",
     "text": [
      "Fold 0: 75.32%\n",
      "Fold 1: 66.88%\n",
      "Fold 2: 73.38%\n",
      "Fold 3: 76.47%\n",
      "Fold 4: 71.90%\n",
      "Acurácia média do default: 72.79%\n"
     ]
    }
   ],
   "source": [
    "acuracia_default_sem_mice = []\n",
    "\n",
    "for i, (train_index, test_index) in enumerate(kf.split(X_default)):\n",
    "    X_train, X_test = X_default.iloc[train_index], X_default.iloc[test_index]\n",
    "    y_train, y_test = y_default.iloc[train_index], y_default.iloc[test_index]\n",
    "    \n",
    "    knn_default.fit(X_train, y_train)\n",
    "    \n",
    "    y_pred1 = knn_default.predict(X_test)\n",
    "    \n",
    "    acuracia = accuracy_score(y_test, y_pred1)\n",
    "    \n",
    "    acuracia_default_sem_mice.append(acuracia)\n",
    "    \n",
    "    print(f\"Fold {i}: {acuracia*100.0:.2f}%\")\n",
    "    \n",
    "acuracia_media_default_sem_mice = sum(acuracia_default_sem_mice) / len(acuracia_default_sem_mice) * 100\n",
    "\n",
    "\n",
    "print(\"Acurácia média do default: {:.2f}%\".format(acuracia_media_default_sem_mice))\n"
   ]
  },
  {
   "attachments": {},
   "cell_type": "markdown",
   "metadata": {},
   "source": [
    "# Modelos sugeridos"
   ]
  },
  {
   "attachments": {},
   "cell_type": "markdown",
   "metadata": {},
   "source": [
    "### Para desenvolvimento dos modelos sugeridos foram testados valores de k: 3, 5, 7, 9 e 11 para verificar se alterar o valor poderia ser uma opção viável de melhoria do modelo mantendo a distância euclideana. Também foram considerados: peso uniforme e peso relacionado às distâncias dos vizinhos e dataframes com valores ausentes e valores preenchidos com MICE."
   ]
  },
  {
   "cell_type": "code",
   "execution_count": 48,
   "metadata": {},
   "outputs": [],
   "source": [
    "X_mice = diabetes_norm_mice.drop(['class'], axis=1)\n",
    "y_mice = diabetes_norm_mice['class']"
   ]
  },
  {
   "attachments": {},
   "cell_type": "markdown",
   "metadata": {},
   "source": [
    "## Testes sem MICE"
   ]
  },
  {
   "attachments": {},
   "cell_type": "markdown",
   "metadata": {},
   "source": [
    "### Variando o número de vizinhos\n",
    "\n",
    "### Com peso uniforme no KNN"
   ]
  },
  {
   "attachments": {},
   "cell_type": "markdown",
   "metadata": {},
   "source": [
    "#### Teste 1 k=5"
   ]
  },
  {
   "cell_type": "code",
   "execution_count": 49,
   "metadata": {},
   "outputs": [
    {
     "name": "stdout",
     "output_type": "stream",
     "text": [
      "Fold 0: 77.92%\n",
      "Fold 1: 66.88%\n",
      "Fold 2: 73.38%\n",
      "Fold 3: 78.43%\n",
      "Fold 4: 73.20%\n",
      "Acurácia média k=5: 73.96%\n"
     ]
    }
   ],
   "source": [
    "knn_n5 = KNeighborsClassifier(n_neighbors=5, metric='euclidean', weights='uniform')\n",
    "\n",
    "acuracia_n5_uniforme = []\n",
    "\n",
    "for i, (train_index, test_index) in enumerate(kf.split(X_default)):\n",
    "    X_train, X_test = X_default.iloc[train_index], X_default.iloc[test_index]\n",
    "    y_train, y_test = y_default.iloc[train_index], y_default.iloc[test_index]\n",
    "    \n",
    "    knn_n5.fit(X_train, y_train)\n",
    "    \n",
    "    y_pred1 = knn_n5.predict(X_test)\n",
    "    \n",
    "    acuracia = accuracy_score(y_test, y_pred1)\n",
    "    \n",
    "    acuracia_n5_uniforme.append(acuracia)\n",
    "    \n",
    "    print(f\"Fold {i}: {acuracia*100.0:.2f}%\")\n",
    "    \n",
    "acuracia_media_n5_uniforme = sum(acuracia_n5_uniforme) / len(acuracia_n5_uniforme) * 100\n",
    "\n",
    "\n",
    "print(\"Acurácia média k=5: {:.2f}%\".format(acuracia_media_n5_uniforme))"
   ]
  },
  {
   "attachments": {},
   "cell_type": "markdown",
   "metadata": {},
   "source": [
    "#### Teste 2 k=7"
   ]
  },
  {
   "cell_type": "code",
   "execution_count": 50,
   "metadata": {},
   "outputs": [
    {
     "name": "stdout",
     "output_type": "stream",
     "text": [
      "Fold 0: 76.62%\n",
      "Fold 1: 68.83%\n",
      "Fold 2: 76.62%\n",
      "Fold 3: 79.08%\n",
      "Fold 4: 75.82%\n",
      "Acurácia média k=7: 75.40%\n"
     ]
    }
   ],
   "source": [
    "knn_n7 = KNeighborsClassifier(n_neighbors=7, metric='euclidean', weights='uniform')\n",
    "\n",
    "acuracia_n7_uniforme = []\n",
    "\n",
    "for i, (train_index, test_index) in enumerate(kf.split(X_default)):\n",
    "    X_train, X_test = X_default.iloc[train_index], X_default.iloc[test_index]\n",
    "    y_train, y_test = y_default.iloc[train_index], y_default.iloc[test_index]\n",
    "    \n",
    "    knn_n7.fit(X_train, y_train)\n",
    "    \n",
    "    y_pred1 = knn_n7.predict(X_test)\n",
    "    \n",
    "    acuracia = accuracy_score(y_test, y_pred1)\n",
    "    \n",
    "    acuracia_n7_uniforme.append(acuracia)\n",
    "    \n",
    "    print(f\"Fold {i}: {acuracia*100.0:.2f}%\")\n",
    "    \n",
    "acuracia_media_n7 = sum(acuracia_n7_uniforme) / len(acuracia_n7_uniforme) * 100\n",
    "\n",
    "\n",
    "print(\"Acurácia média k=7: {:.2f}%\".format(acuracia_media_n7))"
   ]
  },
  {
   "attachments": {},
   "cell_type": "markdown",
   "metadata": {},
   "source": [
    "#### Teste 3 k=9"
   ]
  },
  {
   "cell_type": "code",
   "execution_count": 51,
   "metadata": {},
   "outputs": [
    {
     "name": "stdout",
     "output_type": "stream",
     "text": [
      "Fold 0: 72.73%\n",
      "Fold 1: 72.73%\n",
      "Fold 2: 76.62%\n",
      "Fold 3: 76.47%\n",
      "Fold 4: 74.51%\n",
      "Acurácia média k=9: 74.61%\n"
     ]
    }
   ],
   "source": [
    "knn_n9 = KNeighborsClassifier(n_neighbors=9, metric='euclidean', weights='uniform')\n",
    "\n",
    "acuracia_n9_uniforme = []\n",
    "\n",
    "for i, (train_index, test_index) in enumerate(kf.split(X_default)):\n",
    "    X_train, X_test = X_default.iloc[train_index], X_default.iloc[test_index]\n",
    "    y_train, y_test = y_default.iloc[train_index], y_default.iloc[test_index]\n",
    "    \n",
    "    knn_n9.fit(X_train, y_train)\n",
    "    \n",
    "    y_pred1 = knn_n9.predict(X_test)\n",
    "    \n",
    "    acuracia = accuracy_score(y_test, y_pred1)\n",
    "    \n",
    "    acuracia_n9_uniforme.append(acuracia)\n",
    "    \n",
    "    print(f\"Fold {i}: {acuracia*100.0:.2f}%\")\n",
    "    \n",
    "acuracia_media_n9 = sum(acuracia_n9_uniforme) / len(acuracia_n9_uniforme) * 100\n",
    "\n",
    "\n",
    "print(\"Acurácia média k=9: {:.2f}%\".format(acuracia_media_n9))"
   ]
  },
  {
   "attachments": {},
   "cell_type": "markdown",
   "metadata": {},
   "source": [
    "#### Teste 4 k=11"
   ]
  },
  {
   "cell_type": "code",
   "execution_count": 52,
   "metadata": {},
   "outputs": [
    {
     "name": "stdout",
     "output_type": "stream",
     "text": [
      "Fold 0: 75.97%\n",
      "Fold 1: 70.13%\n",
      "Fold 2: 75.32%\n",
      "Fold 3: 79.08%\n",
      "Fold 4: 73.86%\n",
      "Acurácia média k=11: 74.87%\n"
     ]
    }
   ],
   "source": [
    "knn_n11 = KNeighborsClassifier(n_neighbors=11, metric='euclidean', weights='uniform')\n",
    "\n",
    "acuracia_n11_uniforme = []\n",
    "\n",
    "for i, (train_index, test_index) in enumerate(kf.split(X_default)):\n",
    "    X_train, X_test = X_default.iloc[train_index], X_default.iloc[test_index]\n",
    "    y_train, y_test = y_default.iloc[train_index], y_default.iloc[test_index]\n",
    "    \n",
    "    knn_n11.fit(X_train, y_train)\n",
    "    \n",
    "    y_pred1 = knn_n11.predict(X_test)\n",
    "    \n",
    "    acuracia = accuracy_score(y_test, y_pred1)\n",
    "    \n",
    "    acuracia_n11_uniforme.append(acuracia)\n",
    "    \n",
    "    print(f\"Fold {i}: {acuracia*100.0:.2f}%\")\n",
    "    \n",
    "acuracia_media_n11 = sum(acuracia_n11_uniforme) / len(acuracia_n11_uniforme) * 100\n",
    "\n",
    "\n",
    "print(\"Acurácia média k=11: {:.2f}%\".format(acuracia_media_n11))"
   ]
  },
  {
   "attachments": {},
   "cell_type": "markdown",
   "metadata": {},
   "source": [
    "### Variando o número de vizinhos\n",
    "\n",
    "### Com peso inversamente proporcional à distância dos vizinhos"
   ]
  },
  {
   "attachments": {},
   "cell_type": "markdown",
   "metadata": {},
   "source": [
    "#### Teste 1 k=3"
   ]
  },
  {
   "cell_type": "code",
   "execution_count": 53,
   "metadata": {},
   "outputs": [
    {
     "name": "stdout",
     "output_type": "stream",
     "text": [
      "Fold 0: 74.68%\n",
      "Fold 1: 66.88%\n",
      "Fold 2: 72.73%\n",
      "Fold 3: 75.82%\n",
      "Fold 4: 72.55%\n",
      "Acurácia média k=3: 72.53%\n"
     ]
    }
   ],
   "source": [
    "knn_n3 = KNeighborsClassifier(n_neighbors=3, metric='euclidean', weights='distance')\n",
    "\n",
    "acuracia_n3_distancia = []\n",
    "\n",
    "for i, (train_index, test_index) in enumerate(kf.split(X_default)):\n",
    "    X_train, X_test = X_default.iloc[train_index], X_default.iloc[test_index]\n",
    "    y_train, y_test = y_default.iloc[train_index], y_default.iloc[test_index]\n",
    "    \n",
    "    knn_n3.fit(X_train, y_train)\n",
    "    \n",
    "    y_pred1 = knn_n3.predict(X_test)\n",
    "    \n",
    "    acuracia = accuracy_score(y_test, y_pred1)\n",
    "    \n",
    "    acuracia_n3_distancia.append(acuracia)\n",
    "    \n",
    "    print(f\"Fold {i}: {acuracia*100.0:.2f}%\")\n",
    "    \n",
    "acuracia_media_n3 = sum(acuracia_n3_distancia) / len(acuracia_n3_distancia) * 100\n",
    "\n",
    "\n",
    "print(\"Acurácia média k=3: {:.2f}%\".format(acuracia_media_n3))"
   ]
  },
  {
   "attachments": {},
   "cell_type": "markdown",
   "metadata": {},
   "source": [
    "#### Teste 2 k=5"
   ]
  },
  {
   "cell_type": "code",
   "execution_count": 54,
   "metadata": {},
   "outputs": [
    {
     "name": "stdout",
     "output_type": "stream",
     "text": [
      "Fold 0: 77.27%\n",
      "Fold 1: 66.23%\n",
      "Fold 2: 73.38%\n",
      "Fold 3: 77.78%\n",
      "Fold 4: 73.86%\n",
      "Acurácia média k=5: 73.70%\n"
     ]
    }
   ],
   "source": [
    "knn_n5 = KNeighborsClassifier(n_neighbors=5, metric='euclidean', weights='distance')\n",
    "\n",
    "acuracia_n5_distancia = []\n",
    "\n",
    "for i, (train_index, test_index) in enumerate(kf.split(X_default)):\n",
    "    X_train, X_test = X_default.iloc[train_index], X_default.iloc[test_index]\n",
    "    y_train, y_test = y_default.iloc[train_index], y_default.iloc[test_index]\n",
    "    \n",
    "    knn_n5.fit(X_train, y_train)\n",
    "    \n",
    "    y_pred1 = knn_n5.predict(X_test)\n",
    "    \n",
    "    acuracia = accuracy_score(y_test, y_pred1)\n",
    "    \n",
    "    acuracia_n5_distancia.append(acuracia)\n",
    "    \n",
    "    print(f\"Fold {i}: {acuracia*100.0:.2f}%\")\n",
    "    \n",
    "acuracia_media_n5 = sum(acuracia_n5_distancia) / len(acuracia_n5_distancia) * 100\n",
    "\n",
    "print(\"Acurácia média k=5: {:.2f}%\".format(acuracia_media_n5))"
   ]
  },
  {
   "attachments": {},
   "cell_type": "markdown",
   "metadata": {},
   "source": [
    "#### Teste 3 k=7"
   ]
  },
  {
   "cell_type": "code",
   "execution_count": 55,
   "metadata": {},
   "outputs": [
    {
     "name": "stdout",
     "output_type": "stream",
     "text": [
      "Fold 0: 76.62%\n",
      "Fold 1: 67.53%\n",
      "Fold 2: 76.62%\n",
      "Fold 3: 79.74%\n",
      "Fold 4: 76.47%\n",
      "Acurácia média k=7: 75.40%\n"
     ]
    }
   ],
   "source": [
    "knn_n7 = KNeighborsClassifier(n_neighbors=7, metric='euclidean', weights='distance')\n",
    "\n",
    "acuracia_n7_distancia = []\n",
    "\n",
    "for i, (train_index, test_index) in enumerate(kf.split(X_default)):\n",
    "    X_train, X_test = X_default.iloc[train_index], X_default.iloc[test_index]\n",
    "    y_train, y_test = y_default.iloc[train_index], y_default.iloc[test_index]\n",
    "    \n",
    "    knn_n7.fit(X_train, y_train)\n",
    "    \n",
    "    y_pred1 = knn_n7.predict(X_test)\n",
    "    \n",
    "    acuracia = accuracy_score(y_test, y_pred1)\n",
    "    \n",
    "    acuracia_n7_distancia.append(acuracia)\n",
    "    \n",
    "    print(f\"Fold {i}: {acuracia*100.0:.2f}%\")\n",
    "    \n",
    "acuracia_media_n7 = sum(acuracia_n7_distancia) / len(acuracia_n7_distancia) * 100\n",
    "\n",
    "\n",
    "print(\"Acurácia média k=7: {:.2f}%\".format(acuracia_media_n7))"
   ]
  },
  {
   "attachments": {},
   "cell_type": "markdown",
   "metadata": {},
   "source": [
    "#### Teste 4 k=9"
   ]
  },
  {
   "cell_type": "code",
   "execution_count": 56,
   "metadata": {},
   "outputs": [
    {
     "name": "stdout",
     "output_type": "stream",
     "text": [
      "Fold 0: 74.68%\n",
      "Fold 1: 72.08%\n",
      "Fold 2: 76.62%\n",
      "Fold 3: 76.47%\n",
      "Fold 4: 75.16%\n",
      "Acurácia média k=9: 75.00%\n"
     ]
    }
   ],
   "source": [
    "knn_n9 = KNeighborsClassifier(n_neighbors=9, metric='euclidean', weights='distance')\n",
    "\n",
    "acuracia_n9_distancia = []\n",
    "\n",
    "for i, (train_index, test_index) in enumerate(kf.split(X_default)):\n",
    "    X_train, X_test = X_default.iloc[train_index], X_default.iloc[test_index]\n",
    "    y_train, y_test = y_default.iloc[train_index], y_default.iloc[test_index]\n",
    "    \n",
    "    knn_n9.fit(X_train, y_train)\n",
    "    \n",
    "    y_pred1 = knn_n9.predict(X_test)\n",
    "    \n",
    "    acuracia = accuracy_score(y_test, y_pred1)\n",
    "    \n",
    "    acuracia_n9_distancia.append(acuracia)\n",
    "    \n",
    "    print(f\"Fold {i}: {acuracia*100.0:.2f}%\")\n",
    "    \n",
    "acuracia_media_n9 = sum(acuracia_n9_distancia) / len(acuracia_n9_distancia) * 100\n",
    "\n",
    "\n",
    "print(\"Acurácia média k=9: {:.2f}%\".format(acuracia_media_n9))"
   ]
  },
  {
   "attachments": {},
   "cell_type": "markdown",
   "metadata": {},
   "source": [
    "#### Teste 5 k=11"
   ]
  },
  {
   "cell_type": "code",
   "execution_count": 57,
   "metadata": {},
   "outputs": [
    {
     "name": "stdout",
     "output_type": "stream",
     "text": [
      "Fold 0: 76.62%\n",
      "Fold 1: 70.13%\n",
      "Fold 2: 74.68%\n",
      "Fold 3: 79.74%\n",
      "Fold 4: 73.86%\n",
      "Acurácia média k=11: 75.00%\n"
     ]
    }
   ],
   "source": [
    "knn_n11 = KNeighborsClassifier(n_neighbors=11, metric='euclidean', weights='distance')\n",
    "\n",
    "acuracia_n11_distancia = []\n",
    "\n",
    "for i, (train_index, test_index) in enumerate(kf.split(X_default)):\n",
    "    X_train, X_test = X_default.iloc[train_index], X_default.iloc[test_index]\n",
    "    y_train, y_test = y_default.iloc[train_index], y_default.iloc[test_index]\n",
    "    \n",
    "    knn_n11.fit(X_train, y_train)\n",
    "    \n",
    "    y_pred1 = knn_n11.predict(X_test)\n",
    "    \n",
    "    acuracia = accuracy_score(y_test, y_pred1)\n",
    "    \n",
    "    acuracia_n11_distancia.append(acuracia)\n",
    "    \n",
    "    print(f\"Fold {i}: {acuracia*100.0:.2f}%\")\n",
    "    \n",
    "acuracia_media_n11 = sum(acuracia_n11_distancia) / len(acuracia_n11_distancia) * 100\n",
    "\n",
    "\n",
    "print(\"Acurácia média k=11: {:.2f}%\".format(acuracia_media_n11))"
   ]
  },
  {
   "attachments": {},
   "cell_type": "markdown",
   "metadata": {},
   "source": [
    "## Testes com MICE"
   ]
  },
  {
   "attachments": {},
   "cell_type": "markdown",
   "metadata": {},
   "source": [
    "### Variando o número de vizinhos \n",
    "### Com peso uniforme no KNN"
   ]
  },
  {
   "attachments": {},
   "cell_type": "markdown",
   "metadata": {},
   "source": [
    "#### Teste 1 k=3"
   ]
  },
  {
   "cell_type": "code",
   "execution_count": 58,
   "metadata": {},
   "outputs": [
    {
     "name": "stdout",
     "output_type": "stream",
     "text": [
      "Fold 0: 74.03%\n",
      "Fold 1: 70.78%\n",
      "Fold 2: 73.38%\n",
      "Fold 3: 73.20%\n",
      "Fold 4: 73.20%\n",
      "Acurácia média k=3 utilizando mice: 72.92%\n"
     ]
    }
   ],
   "source": [
    "knn_n3 = KNeighborsClassifier(n_neighbors=3, metric='euclidean', weights='uniform')\n",
    "\n",
    "acuracia_n3_uniforme_mice = []\n",
    "\n",
    "for i, (train_index, test_index) in enumerate(kf.split(X_mice)):\n",
    "    X_train, X_test = X_mice.iloc[train_index], X_mice.iloc[test_index]\n",
    "    y_train, y_test = y_mice.iloc[train_index], y_mice.iloc[test_index]\n",
    "    \n",
    "    knn_n3.fit(X_train, y_train)\n",
    "    \n",
    "    y_pred1 = knn_n3.predict(X_test)\n",
    "    \n",
    "    acuracia = accuracy_score(y_test, y_pred1)\n",
    "    \n",
    "    acuracia_n3_uniforme_mice.append(acuracia)\n",
    "    \n",
    "    print(f\"Fold {i}: {acuracia*100.0:.2f}%\")\n",
    "    \n",
    "acuracia_media_n3 = sum(acuracia_n3_uniforme_mice) / len(acuracia_n3_uniforme_mice) * 100\n",
    "\n",
    "\n",
    "print(\"Acurácia média k=3 utilizando mice: {:.2f}%\".format(acuracia_media_n3))"
   ]
  },
  {
   "attachments": {},
   "cell_type": "markdown",
   "metadata": {},
   "source": [
    "#### Teste 2 k=5"
   ]
  },
  {
   "cell_type": "code",
   "execution_count": 59,
   "metadata": {},
   "outputs": [
    {
     "name": "stdout",
     "output_type": "stream",
     "text": [
      "Fold 0: 74.68%\n",
      "Fold 1: 72.73%\n",
      "Fold 2: 75.97%\n",
      "Fold 3: 79.08%\n",
      "Fold 4: 73.86%\n",
      "Acurácia média k=5 utilizando mice: 75.26%\n"
     ]
    }
   ],
   "source": [
    "knn_n5 = KNeighborsClassifier(n_neighbors=5, metric='euclidean', weights='uniform')\n",
    "\n",
    "acuracia_n5_uniforme_mice = []\n",
    "\n",
    "for i, (train_index, test_index) in enumerate(kf.split(X_mice)):\n",
    "    X_train, X_test = X_mice.iloc[train_index], X_mice.iloc[test_index]\n",
    "    y_train, y_test = y_mice.iloc[train_index], y_mice.iloc[test_index]\n",
    "    \n",
    "    knn_n5.fit(X_train, y_train)\n",
    "    \n",
    "    y_pred1 = knn_n5.predict(X_test)\n",
    "    \n",
    "    acuracia = accuracy_score(y_test, y_pred1)\n",
    "    \n",
    "    acuracia_n5_uniforme_mice.append(acuracia)\n",
    "    \n",
    "    print(f\"Fold {i}: {acuracia*100.0:.2f}%\")\n",
    "    \n",
    "acuracia_media_n5 = sum(acuracia_n5_uniforme_mice) / len(acuracia_n5_uniforme_mice) * 100\n",
    "\n",
    "\n",
    "print(\"Acurácia média k=5 utilizando mice: {:.2f}%\".format(acuracia_media_n5))"
   ]
  },
  {
   "attachments": {},
   "cell_type": "markdown",
   "metadata": {},
   "source": [
    "#### Teste 3 k=7"
   ]
  },
  {
   "cell_type": "code",
   "execution_count": 60,
   "metadata": {},
   "outputs": [
    {
     "name": "stdout",
     "output_type": "stream",
     "text": [
      "Fold 0: 75.32%\n",
      "Fold 1: 72.08%\n",
      "Fold 2: 75.97%\n",
      "Fold 3: 79.08%\n",
      "Fold 4: 74.51%\n",
      "Acurácia média k=7 utilizando mice: 75.39%\n"
     ]
    }
   ],
   "source": [
    "knn_n7 = KNeighborsClassifier(n_neighbors=7, metric='euclidean', weights='uniform')\n",
    "\n",
    "acuracia_n7_uniforme_mice = []\n",
    "\n",
    "for i, (train_index, test_index) in enumerate(kf.split(X_mice)):\n",
    "    X_train, X_test = X_mice.iloc[train_index], X_mice.iloc[test_index]\n",
    "    y_train, y_test = y_mice.iloc[train_index], y_mice.iloc[test_index]\n",
    "    \n",
    "    knn_n7.fit(X_train, y_train)\n",
    "    \n",
    "    y_pred1 = knn_n7.predict(X_test)\n",
    "    \n",
    "    acuracia = accuracy_score(y_test, y_pred1)\n",
    "    \n",
    "    acuracia_n7_uniforme_mice.append(acuracia)\n",
    "    \n",
    "    print(f\"Fold {i}: {acuracia*100.0:.2f}%\")\n",
    "    \n",
    "acuracia_media_n7 = sum(acuracia_n7_uniforme_mice) / len(acuracia_n7_uniforme_mice) * 100\n",
    "\n",
    "\n",
    "print(\"Acurácia média k=7 utilizando mice: {:.2f}%\".format(acuracia_media_n7))"
   ]
  },
  {
   "attachments": {},
   "cell_type": "markdown",
   "metadata": {},
   "source": [
    "#### Teste 4 k=9"
   ]
  },
  {
   "cell_type": "code",
   "execution_count": 61,
   "metadata": {},
   "outputs": [
    {
     "name": "stdout",
     "output_type": "stream",
     "text": [
      "Fold 0: 74.03%\n",
      "Fold 1: 70.78%\n",
      "Fold 2: 74.03%\n",
      "Fold 3: 79.74%\n",
      "Fold 4: 76.47%\n",
      "Acurácia média k=9 utilizando mice: 75.01%\n"
     ]
    }
   ],
   "source": [
    "knn_n9 = KNeighborsClassifier(n_neighbors=9, metric='euclidean', weights='uniform')\n",
    "\n",
    "acuracia_n9_uniforme_mice = []\n",
    "\n",
    "for i, (train_index, test_index) in enumerate(kf.split(X_mice)):\n",
    "    X_train, X_test = X_mice.iloc[train_index], X_mice.iloc[test_index]\n",
    "    y_train, y_test = y_mice.iloc[train_index], y_mice.iloc[test_index]\n",
    "    \n",
    "    knn_n9.fit(X_train, y_train)\n",
    "    \n",
    "    y_pred1 = knn_n9.predict(X_test)\n",
    "    \n",
    "    acuracia = accuracy_score(y_test, y_pred1)\n",
    "    \n",
    "    acuracia_n9_uniforme_mice.append(acuracia)\n",
    "    \n",
    "    print(f\"Fold {i}: {acuracia*100.0:.2f}%\")\n",
    "    \n",
    "acuracia_media_n9 = sum(acuracia_n9_uniforme_mice) / len(acuracia_n9_uniforme_mice) * 100\n",
    "\n",
    "\n",
    "print(\"Acurácia média k=9 utilizando mice: {:.2f}%\".format(acuracia_media_n9))"
   ]
  },
  {
   "attachments": {},
   "cell_type": "markdown",
   "metadata": {},
   "source": [
    "#### Teste 5 k=11"
   ]
  },
  {
   "cell_type": "code",
   "execution_count": 62,
   "metadata": {},
   "outputs": [
    {
     "name": "stdout",
     "output_type": "stream",
     "text": [
      "Fold 0: 73.38%\n",
      "Fold 1: 68.18%\n",
      "Fold 2: 75.32%\n",
      "Fold 3: 79.74%\n",
      "Fold 4: 76.47%\n",
      "Acurácia média k=11 utilizando mice: 74.62%\n"
     ]
    }
   ],
   "source": [
    "knn_n11 = KNeighborsClassifier(n_neighbors=11, metric='euclidean', weights='uniform')\n",
    "\n",
    "acuracia_n11_uniforme_mice = []\n",
    "\n",
    "for i, (train_index, test_index) in enumerate(kf.split(X_mice)):\n",
    "    X_train, X_test = X_mice.iloc[train_index], X_mice.iloc[test_index]\n",
    "    y_train, y_test = y_mice.iloc[train_index], y_mice.iloc[test_index]\n",
    "    \n",
    "    knn_n11.fit(X_train, y_train)\n",
    "    \n",
    "    y_pred1 = knn_n11.predict(X_test)\n",
    "    \n",
    "    acuracia = accuracy_score(y_test, y_pred1)\n",
    "    \n",
    "    acuracia_n11_uniforme_mice.append(acuracia)\n",
    "    \n",
    "    print(f\"Fold {i}: {acuracia*100.0:.2f}%\")\n",
    "    \n",
    "acuracia_media_n11 = sum(acuracia_n11_uniforme_mice) / len(acuracia_n11_uniforme_mice) * 100\n",
    "\n",
    "\n",
    "print(\"Acurácia média k=11 utilizando mice: {:.2f}%\".format(acuracia_media_n11))"
   ]
  },
  {
   "attachments": {},
   "cell_type": "markdown",
   "metadata": {},
   "source": [
    "### Variando o número de vizinhos\n",
    "\n",
    "### Com peso inversamente proporcional à distância dos vizinhos"
   ]
  },
  {
   "attachments": {},
   "cell_type": "markdown",
   "metadata": {},
   "source": [
    "#### Teste 1 k=3"
   ]
  },
  {
   "cell_type": "code",
   "execution_count": 63,
   "metadata": {},
   "outputs": [
    {
     "name": "stdout",
     "output_type": "stream",
     "text": [
      "Fold 0: 74.03%\n",
      "Fold 1: 70.78%\n",
      "Fold 2: 72.73%\n",
      "Fold 3: 73.20%\n",
      "Fold 4: 71.90%\n",
      "Acurácia média k=3 utilizando mice: 72.53%\n"
     ]
    }
   ],
   "source": [
    "knn_n3 = KNeighborsClassifier(n_neighbors=3, metric='euclidean', weights='distance')\n",
    "\n",
    "acuracia_n3_distancia_mice = []\n",
    "\n",
    "for i, (train_index, test_index) in enumerate(kf.split(X_mice)):\n",
    "    X_train, X_test = X_mice.iloc[train_index], X_mice.iloc[test_index]\n",
    "    y_train, y_test = y_mice.iloc[train_index], y_mice.iloc[test_index]\n",
    "    \n",
    "    knn_n3.fit(X_train, y_train)\n",
    "    \n",
    "    y_pred1 = knn_n3.predict(X_test)\n",
    "    \n",
    "    acuracia = accuracy_score(y_test, y_pred1)\n",
    "    \n",
    "    acuracia_n3_distancia_mice.append(acuracia)\n",
    "    \n",
    "    print(f\"Fold {i}: {acuracia*100.0:.2f}%\")\n",
    "    \n",
    "acuracia_media_n3 = sum(acuracia_n3_distancia_mice) / len(acuracia_n3_distancia_mice) * 100\n",
    "\n",
    "\n",
    "print(\"Acurácia média k=3 utilizando mice: {:.2f}%\".format(acuracia_media_n3))"
   ]
  },
  {
   "attachments": {},
   "cell_type": "markdown",
   "metadata": {},
   "source": [
    "#### Teste 2 k=5"
   ]
  },
  {
   "cell_type": "code",
   "execution_count": 64,
   "metadata": {},
   "outputs": [
    {
     "name": "stdout",
     "output_type": "stream",
     "text": [
      "Fold 0: 75.32%\n",
      "Fold 1: 72.08%\n",
      "Fold 2: 75.97%\n",
      "Fold 3: 79.08%\n",
      "Fold 4: 72.55%\n",
      "Acurácia média k=5 utilizando mice: 75.00%\n"
     ]
    }
   ],
   "source": [
    "knn_n5 = KNeighborsClassifier(n_neighbors=5, metric='euclidean', weights='distance')\n",
    "\n",
    "acuracia_n5_distancia_mice = []\n",
    "\n",
    "for i, (train_index, test_index) in enumerate(kf.split(X_mice)):\n",
    "    X_train, X_test = X_mice.iloc[train_index], X_mice.iloc[test_index]\n",
    "    y_train, y_test = y_mice.iloc[train_index], y_mice.iloc[test_index]\n",
    "    \n",
    "    knn_n5.fit(X_train, y_train)\n",
    "    \n",
    "    y_pred1 = knn_n5.predict(X_test)\n",
    "    \n",
    "    acuracia = accuracy_score(y_test, y_pred1)\n",
    "    \n",
    "    acuracia_n5_distancia_mice.append(acuracia)\n",
    "    \n",
    "    print(f\"Fold {i}: {acuracia*100.0:.2f}%\")\n",
    "    \n",
    "acuracia_media_n5 = sum(acuracia_n5_distancia_mice) / len(acuracia_n5_distancia_mice) * 100\n",
    "\n",
    "\n",
    "print(\"Acurácia média k=5 utilizando mice: {:.2f}%\".format(acuracia_media_n5))"
   ]
  },
  {
   "attachments": {},
   "cell_type": "markdown",
   "metadata": {},
   "source": [
    "#### Teste 3 k=7"
   ]
  },
  {
   "cell_type": "code",
   "execution_count": 65,
   "metadata": {},
   "outputs": [
    {
     "name": "stdout",
     "output_type": "stream",
     "text": [
      "Fold 0: 75.32%\n",
      "Fold 1: 72.08%\n",
      "Fold 2: 75.97%\n",
      "Fold 3: 79.74%\n",
      "Fold 4: 73.20%\n",
      "Acurácia média k=7 utilizando mice: 75.26%\n"
     ]
    }
   ],
   "source": [
    "knn_n7 = KNeighborsClassifier(n_neighbors=7, metric='euclidean', weights='distance')\n",
    "\n",
    "acuracia_n7_distancia_mice = []\n",
    "\n",
    "for i, (train_index, test_index) in enumerate(kf.split(X_mice)):\n",
    "    X_train, X_test = X_mice.iloc[train_index], X_mice.iloc[test_index]\n",
    "    y_train, y_test = y_mice.iloc[train_index], y_mice.iloc[test_index]\n",
    "    \n",
    "    knn_n7.fit(X_train, y_train)\n",
    "    \n",
    "    y_pred1 = knn_n7.predict(X_test)\n",
    "    \n",
    "    acuracia = accuracy_score(y_test, y_pred1)\n",
    "    \n",
    "    acuracia_n7_distancia_mice.append(acuracia)\n",
    "    \n",
    "    print(f\"Fold {i}: {acuracia*100.0:.2f}%\")\n",
    "    \n",
    "acuracia_media_n7 = sum(acuracia_n7_distancia_mice) / len(acuracia_n7_distancia_mice) * 100\n",
    "\n",
    "\n",
    "print(\"Acurácia média k=7 utilizando mice: {:.2f}%\".format(acuracia_media_n7))"
   ]
  },
  {
   "attachments": {},
   "cell_type": "markdown",
   "metadata": {},
   "source": [
    "#### Teste 4 k=9"
   ]
  },
  {
   "cell_type": "code",
   "execution_count": 66,
   "metadata": {},
   "outputs": [
    {
     "name": "stdout",
     "output_type": "stream",
     "text": [
      "Fold 0: 72.73%\n",
      "Fold 1: 70.78%\n",
      "Fold 2: 73.38%\n",
      "Fold 3: 80.39%\n",
      "Fold 4: 75.82%\n",
      "Acurácia média k=9 utilizando mice: 74.62%\n"
     ]
    }
   ],
   "source": [
    "knn_n9 = KNeighborsClassifier(n_neighbors=9, metric='euclidean', weights='distance')\n",
    "\n",
    "acuracia_n9_distancia_mice = []\n",
    "\n",
    "for i, (train_index, test_index) in enumerate(kf.split(X_mice)):\n",
    "    X_train, X_test = X_mice.iloc[train_index], X_mice.iloc[test_index]\n",
    "    y_train, y_test = y_mice.iloc[train_index], y_mice.iloc[test_index]\n",
    "    \n",
    "    knn_n9.fit(X_train, y_train)\n",
    "    \n",
    "    y_pred1 = knn_n9.predict(X_test)\n",
    "    \n",
    "    acuracia = accuracy_score(y_test, y_pred1)\n",
    "    \n",
    "    acuracia_n9_distancia_mice.append(acuracia)\n",
    "    \n",
    "    print(f\"Fold {i}: {acuracia*100.0:.2f}%\")\n",
    "    \n",
    "acuracia_media_n9 = sum(acuracia_n9_distancia_mice) / len(acuracia_n9_distancia_mice) * 100\n",
    "\n",
    "\n",
    "print(\"Acurácia média k=9 utilizando mice: {:.2f}%\".format(acuracia_media_n9))"
   ]
  },
  {
   "attachments": {},
   "cell_type": "markdown",
   "metadata": {},
   "source": [
    "#### Teste 5 k=11"
   ]
  },
  {
   "cell_type": "code",
   "execution_count": 67,
   "metadata": {},
   "outputs": [
    {
     "name": "stdout",
     "output_type": "stream",
     "text": [
      "Fold 0: 72.73%\n",
      "Fold 1: 68.83%\n",
      "Fold 2: 74.03%\n",
      "Fold 3: 81.05%\n",
      "Fold 4: 75.82%\n",
      "Acurácia média k=11 utilizando mice: 74.49%\n"
     ]
    }
   ],
   "source": [
    "knn_n11 = KNeighborsClassifier(n_neighbors=11, metric='euclidean', weights='distance')\n",
    "\n",
    "acuracia_n11_distancia_mice = []\n",
    "\n",
    "for i, (train_index, test_index) in enumerate(kf.split(X_mice)):\n",
    "    X_train, X_test = X_mice.iloc[train_index], X_mice.iloc[test_index]\n",
    "    y_train, y_test = y_mice.iloc[train_index], y_mice.iloc[test_index]\n",
    "    \n",
    "    knn_n11.fit(X_train, y_train)\n",
    "    \n",
    "    y_pred1 = knn_n11.predict(X_test)\n",
    "    \n",
    "    acuracia = accuracy_score(y_test, y_pred1)\n",
    "    \n",
    "    acuracia_n11_distancia_mice.append(acuracia)\n",
    "    \n",
    "    print(f\"Fold {i}: {acuracia*100.0:.2f}%\")\n",
    "    \n",
    "acuracia_media_n11 = sum(acuracia_n11_distancia_mice) / len(acuracia_n11_distancia_mice) * 100\n",
    "\n",
    "\n",
    "print(\"Acurácia média k=11 utilizando mice: {:.2f}%\".format(acuracia_media_n11))"
   ]
  },
  {
   "attachments": {},
   "cell_type": "markdown",
   "metadata": {},
   "source": [
    "# T Student para comparar o baseline com os modelos propostos"
   ]
  },
  {
   "attachments": {},
   "cell_type": "markdown",
   "metadata": {},
   "source": [
    "#### Foram geradas estatísticas de comparações realizadas par a par (baseline X modelo proposto) sem MICE. Essas estatísticas foram inseridas no DataFrame t_student_sem_mice\n",
    "\n",
    "*Os dataframes possuem os atributos:\n",
    "| Variável       | Descrição                                                       |\n",
    "|----------------|-----------------------------------------------------------------|\n",
    "| stat   | Valor da estatística de t student                                       |\n",
    "| p      | P-valor de t student                                                    |\n",
    "| k      | Número de vizinhos considerado                                          |\n",
    "| peso   |'uniforme' ou 'distancia' - tipo de peso utilizado no KNN                |\n",
    "| mice   |'sim' ou 'não' - indica se foi utilizado MICE ou não para aquele modelo  |"
   ]
  },
  {
   "cell_type": "code",
   "execution_count": 68,
   "metadata": {},
   "outputs": [
    {
     "data": {
      "text/html": [
       "<div>\n",
       "<style scoped>\n",
       "    .dataframe tbody tr th:only-of-type {\n",
       "        vertical-align: middle;\n",
       "    }\n",
       "\n",
       "    .dataframe tbody tr th {\n",
       "        vertical-align: top;\n",
       "    }\n",
       "\n",
       "    .dataframe thead th {\n",
       "        text-align: right;\n",
       "    }\n",
       "</style>\n",
       "<table border=\"1\" class=\"dataframe\">\n",
       "  <thead>\n",
       "    <tr style=\"text-align: right;\">\n",
       "      <th></th>\n",
       "      <th>stat</th>\n",
       "      <th>p</th>\n",
       "      <th>k</th>\n",
       "      <th>peso</th>\n",
       "      <th>mice</th>\n",
       "    </tr>\n",
       "  </thead>\n",
       "  <tbody>\n",
       "    <tr>\n",
       "      <th>0</th>\n",
       "      <td>-0.439175</td>\n",
       "      <td>0.672155</td>\n",
       "      <td>5</td>\n",
       "      <td>uniforme</td>\n",
       "      <td>não</td>\n",
       "    </tr>\n",
       "    <tr>\n",
       "      <th>1</th>\n",
       "      <td>-1.082492</td>\n",
       "      <td>0.310580</td>\n",
       "      <td>7</td>\n",
       "      <td>uniforme</td>\n",
       "      <td>não</td>\n",
       "    </tr>\n",
       "    <tr>\n",
       "      <th>2</th>\n",
       "      <td>-0.969378</td>\n",
       "      <td>0.360747</td>\n",
       "      <td>9</td>\n",
       "      <td>uniforme</td>\n",
       "      <td>não</td>\n",
       "    </tr>\n",
       "    <tr>\n",
       "      <th>3</th>\n",
       "      <td>-0.938073</td>\n",
       "      <td>0.375660</td>\n",
       "      <td>11</td>\n",
       "      <td>uniforme</td>\n",
       "      <td>não</td>\n",
       "    </tr>\n",
       "    <tr>\n",
       "      <th>4</th>\n",
       "      <td>0.114267</td>\n",
       "      <td>0.911842</td>\n",
       "      <td>3</td>\n",
       "      <td>distancia</td>\n",
       "      <td>não</td>\n",
       "    </tr>\n",
       "    <tr>\n",
       "      <th>5</th>\n",
       "      <td>-0.343649</td>\n",
       "      <td>0.739967</td>\n",
       "      <td>5</td>\n",
       "      <td>distancia</td>\n",
       "      <td>não</td>\n",
       "    </tr>\n",
       "    <tr>\n",
       "      <th>6</th>\n",
       "      <td>-0.982536</td>\n",
       "      <td>0.354613</td>\n",
       "      <td>7</td>\n",
       "      <td>distancia</td>\n",
       "      <td>não</td>\n",
       "    </tr>\n",
       "    <tr>\n",
       "      <th>7</th>\n",
       "      <td>-1.186837</td>\n",
       "      <td>0.269337</td>\n",
       "      <td>9</td>\n",
       "      <td>distancia</td>\n",
       "      <td>não</td>\n",
       "    </tr>\n",
       "    <tr>\n",
       "      <th>8</th>\n",
       "      <td>-0.960920</td>\n",
       "      <td>0.364732</td>\n",
       "      <td>11</td>\n",
       "      <td>distancia</td>\n",
       "      <td>não</td>\n",
       "    </tr>\n",
       "  </tbody>\n",
       "</table>\n",
       "</div>"
      ],
      "text/plain": [
       "       stat         p   k       peso mice\n",
       "0 -0.439175  0.672155   5   uniforme  não\n",
       "1 -1.082492  0.310580   7   uniforme  não\n",
       "2 -0.969378  0.360747   9   uniforme  não\n",
       "3 -0.938073  0.375660  11   uniforme  não\n",
       "4  0.114267  0.911842   3  distancia  não\n",
       "5 -0.343649  0.739967   5  distancia  não\n",
       "6 -0.982536  0.354613   7  distancia  não\n",
       "7 -1.186837  0.269337   9  distancia  não\n",
       "8 -0.960920  0.364732  11  distancia  não"
      ]
     },
     "execution_count": 68,
     "metadata": {},
     "output_type": "execute_result"
    }
   ],
   "source": [
    "colunas = {'stat': [], 'p':[], 'k':[], 'peso':[], 'mice':[]}\n",
    "\n",
    "t_student_sem_mice = pd.DataFrame(colunas)\n",
    "\n",
    "# Para k=5 e peso uniforme\n",
    "stat, p = ttest_ind(acuracia_default_sem_mice, acuracia_n5_uniforme)\n",
    "t_student_sem_mice.loc[len(t_student_sem_mice)] = [stat, p, 5, 'uniforme', 'não']\n",
    "\n",
    "# Para k=7 e peso uniforme\n",
    "stat, p = ttest_ind(acuracia_default_sem_mice, acuracia_n7_uniforme)\n",
    "t_student_sem_mice.loc[len(t_student_sem_mice)] = [stat, p, 7, 'uniforme', 'não']\n",
    "\n",
    "# Para k=9 e peso uniforme\n",
    "stat, p = ttest_ind(acuracia_default_sem_mice, acuracia_n9_uniforme)\n",
    "t_student_sem_mice.loc[len(t_student_sem_mice)] = [stat, p, 9, 'uniforme', 'não']\n",
    "\n",
    "# Para k=11 e peso uniforme\n",
    "stat, p = ttest_ind(acuracia_default_sem_mice, acuracia_n11_uniforme)\n",
    "t_student_sem_mice.loc[len(t_student_sem_mice)] = [stat, p, 11, 'uniforme', 'não']\n",
    "\n",
    "# Para k=3 e peso proporcional à distância\n",
    "stat, p = ttest_ind(acuracia_default_sem_mice, acuracia_n3_distancia)\n",
    "t_student_sem_mice.loc[len(t_student_sem_mice)] = [stat, p, 3, 'distancia', 'não']\n",
    "\n",
    "# Para k=5 e peso proporcional à distância\n",
    "stat, p = ttest_ind(acuracia_default_sem_mice, acuracia_n5_distancia)\n",
    "t_student_sem_mice.loc[len(t_student_sem_mice)] = [stat, p, 5, 'distancia', 'não']\n",
    "\n",
    "# Para k=7 e peso proporcional à distância\n",
    "stat, p = ttest_ind(acuracia_default_sem_mice, acuracia_n7_distancia)\n",
    "t_student_sem_mice.loc[len(t_student_sem_mice)] = [stat, p, 7, 'distancia', 'não']\n",
    "\n",
    "# Para k=9 e peso proporcional à distância\n",
    "stat, p = ttest_ind(acuracia_default_sem_mice, acuracia_n9_distancia)\n",
    "t_student_sem_mice.loc[len(t_student_sem_mice)] = [stat, p, 9, 'distancia', 'não']\n",
    "\n",
    "# Para k=11 e peso proporcional à distância\n",
    "stat, p = ttest_ind(acuracia_default_sem_mice, acuracia_n11_distancia)\n",
    "t_student_sem_mice.loc[len(t_student_sem_mice)] = [stat, p, 11, 'distancia', 'não']\n",
    "\n",
    "t_student_sem_mice"
   ]
  },
  {
   "attachments": {},
   "cell_type": "markdown",
   "metadata": {},
   "source": [
    "#### Foram geradas estatísticas de comparações realizadas par a par (baseline X modelo proposto) com MICE. Essas estatísticas foram inseridas no DataFrame t_student_com_mice"
   ]
  },
  {
   "cell_type": "code",
   "execution_count": 69,
   "metadata": {},
   "outputs": [
    {
     "data": {
      "text/html": [
       "<div>\n",
       "<style scoped>\n",
       "    .dataframe tbody tr th:only-of-type {\n",
       "        vertical-align: middle;\n",
       "    }\n",
       "\n",
       "    .dataframe tbody tr th {\n",
       "        vertical-align: top;\n",
       "    }\n",
       "\n",
       "    .dataframe thead th {\n",
       "        text-align: right;\n",
       "    }\n",
       "</style>\n",
       "<table border=\"1\" class=\"dataframe\">\n",
       "  <thead>\n",
       "    <tr style=\"text-align: right;\">\n",
       "      <th></th>\n",
       "      <th>stat</th>\n",
       "      <th>p</th>\n",
       "      <th>k</th>\n",
       "      <th>peso</th>\n",
       "      <th>mice</th>\n",
       "    </tr>\n",
       "  </thead>\n",
       "  <tbody>\n",
       "    <tr>\n",
       "      <th>0</th>\n",
       "      <td>-0.072209</td>\n",
       "      <td>0.944208</td>\n",
       "      <td>3</td>\n",
       "      <td>uniforme</td>\n",
       "      <td>sim</td>\n",
       "    </tr>\n",
       "    <tr>\n",
       "      <th>1</th>\n",
       "      <td>-1.237710</td>\n",
       "      <td>0.250916</td>\n",
       "      <td>5</td>\n",
       "      <td>uniforme</td>\n",
       "      <td>sim</td>\n",
       "    </tr>\n",
       "    <tr>\n",
       "      <th>2</th>\n",
       "      <td>-1.288087</td>\n",
       "      <td>0.233721</td>\n",
       "      <td>7</td>\n",
       "      <td>uniforme</td>\n",
       "      <td>sim</td>\n",
       "    </tr>\n",
       "    <tr>\n",
       "      <th>3</th>\n",
       "      <td>-0.990249</td>\n",
       "      <td>0.351054</td>\n",
       "      <td>9</td>\n",
       "      <td>uniforme</td>\n",
       "      <td>sim</td>\n",
       "    </tr>\n",
       "    <tr>\n",
       "      <th>4</th>\n",
       "      <td>-0.719573</td>\n",
       "      <td>0.492271</td>\n",
       "      <td>11</td>\n",
       "      <td>uniforme</td>\n",
       "      <td>sim</td>\n",
       "    </tr>\n",
       "    <tr>\n",
       "      <th>5</th>\n",
       "      <td>0.149687</td>\n",
       "      <td>0.884717</td>\n",
       "      <td>3</td>\n",
       "      <td>distancia</td>\n",
       "      <td>sim</td>\n",
       "    </tr>\n",
       "    <tr>\n",
       "      <th>6</th>\n",
       "      <td>-1.052790</td>\n",
       "      <td>0.323194</td>\n",
       "      <td>5</td>\n",
       "      <td>distancia</td>\n",
       "      <td>sim</td>\n",
       "    </tr>\n",
       "    <tr>\n",
       "      <th>7</th>\n",
       "      <td>-1.159985</td>\n",
       "      <td>0.279501</td>\n",
       "      <td>7</td>\n",
       "      <td>distancia</td>\n",
       "      <td>sim</td>\n",
       "    </tr>\n",
       "    <tr>\n",
       "      <th>8</th>\n",
       "      <td>-0.777369</td>\n",
       "      <td>0.459309</td>\n",
       "      <td>9</td>\n",
       "      <td>distancia</td>\n",
       "      <td>sim</td>\n",
       "    </tr>\n",
       "    <tr>\n",
       "      <th>9</th>\n",
       "      <td>-0.651453</td>\n",
       "      <td>0.533018</td>\n",
       "      <td>11</td>\n",
       "      <td>distancia</td>\n",
       "      <td>sim</td>\n",
       "    </tr>\n",
       "  </tbody>\n",
       "</table>\n",
       "</div>"
      ],
      "text/plain": [
       "       stat         p   k       peso mice\n",
       "0 -0.072209  0.944208   3   uniforme  sim\n",
       "1 -1.237710  0.250916   5   uniforme  sim\n",
       "2 -1.288087  0.233721   7   uniforme  sim\n",
       "3 -0.990249  0.351054   9   uniforme  sim\n",
       "4 -0.719573  0.492271  11   uniforme  sim\n",
       "5  0.149687  0.884717   3  distancia  sim\n",
       "6 -1.052790  0.323194   5  distancia  sim\n",
       "7 -1.159985  0.279501   7  distancia  sim\n",
       "8 -0.777369  0.459309   9  distancia  sim\n",
       "9 -0.651453  0.533018  11  distancia  sim"
      ]
     },
     "execution_count": 69,
     "metadata": {},
     "output_type": "execute_result"
    }
   ],
   "source": [
    "colunas = {'stat': [], 'p':[], 'k':[], 'peso':[], 'mice':[]}\n",
    "\n",
    "t_student_com_mice = pd.DataFrame(colunas)\n",
    "\n",
    "# Para k=3 e peso uniforme\n",
    "stat, p = ttest_ind(acuracia_default_sem_mice, acuracia_n3_uniforme_mice)\n",
    "t_student_com_mice.loc[len(t_student_com_mice)] = [stat, p, 3, 'uniforme', 'sim']\n",
    "\n",
    "# Para k=5 e peso uniforme\n",
    "stat, p = ttest_ind(acuracia_default_sem_mice, acuracia_n5_uniforme_mice)\n",
    "t_student_com_mice.loc[len(t_student_com_mice)] = [stat, p, 5, 'uniforme', 'sim']\n",
    "\n",
    "# Para k=7 e peso uniforme\n",
    "stat, p = ttest_ind(acuracia_default_sem_mice, acuracia_n7_uniforme_mice)\n",
    "t_student_com_mice.loc[len(t_student_com_mice)] = [stat, p, 7, 'uniforme', 'sim']\n",
    "\n",
    "# Para k=9 e peso uniforme\n",
    "stat, p = ttest_ind(acuracia_default_sem_mice, acuracia_n9_uniforme_mice)\n",
    "t_student_com_mice.loc[len(t_student_com_mice)] = [stat, p, 9, 'uniforme', 'sim']\n",
    "\n",
    "# Para k=11 e peso uniforme\n",
    "stat, p = ttest_ind(acuracia_default_sem_mice, acuracia_n11_uniforme_mice)\n",
    "t_student_com_mice.loc[len(t_student_com_mice)] = [stat, p, 11, 'uniforme', 'sim']\n",
    "\n",
    "# Para k=3 e peso proporcional à distância\n",
    "stat, p = ttest_ind(acuracia_default_sem_mice, acuracia_n3_distancia_mice)\n",
    "t_student_com_mice.loc[len(t_student_com_mice)] = [stat, p, 3, 'distancia', 'sim']\n",
    "\n",
    "# Para k=5 e peso proporcional à distância\n",
    "stat, p = ttest_ind(acuracia_default_sem_mice, acuracia_n5_distancia_mice)\n",
    "t_student_com_mice.loc[len(t_student_com_mice)] = [stat, p, 5, 'distancia', 'sim']\n",
    "\n",
    "# Para k=7 e peso proporcional à distância\n",
    "stat, p = ttest_ind(acuracia_default_sem_mice, acuracia_n7_distancia_mice)\n",
    "t_student_com_mice.loc[len(t_student_com_mice)] = [stat, p, 7, 'distancia', 'sim']\n",
    "\n",
    "# Para k=9 e peso proporcional à distância\n",
    "stat, p = ttest_ind(acuracia_default_sem_mice, acuracia_n9_distancia_mice)\n",
    "t_student_com_mice.loc[len(t_student_com_mice)] = [stat, p, 9, 'distancia', 'sim']\n",
    "\n",
    "# Para k=11 e peso proporcional à distância\n",
    "stat, p = ttest_ind(acuracia_default_sem_mice, acuracia_n11_distancia_mice)\n",
    "t_student_com_mice.loc[len(t_student_com_mice)] = [stat, p, 11, 'distancia', 'sim']\n",
    "\n",
    "t_student_com_mice"
   ]
  },
  {
   "attachments": {},
   "cell_type": "markdown",
   "metadata": {},
   "source": [
    "### Concatenação dos dataframes com os valores de t student"
   ]
  },
  {
   "cell_type": "code",
   "execution_count": 70,
   "metadata": {},
   "outputs": [
    {
     "data": {
      "text/html": [
       "<div>\n",
       "<style scoped>\n",
       "    .dataframe tbody tr th:only-of-type {\n",
       "        vertical-align: middle;\n",
       "    }\n",
       "\n",
       "    .dataframe tbody tr th {\n",
       "        vertical-align: top;\n",
       "    }\n",
       "\n",
       "    .dataframe thead th {\n",
       "        text-align: right;\n",
       "    }\n",
       "</style>\n",
       "<table border=\"1\" class=\"dataframe\">\n",
       "  <thead>\n",
       "    <tr style=\"text-align: right;\">\n",
       "      <th></th>\n",
       "      <th>stat</th>\n",
       "      <th>p</th>\n",
       "      <th>k</th>\n",
       "      <th>peso</th>\n",
       "      <th>mice</th>\n",
       "    </tr>\n",
       "  </thead>\n",
       "  <tbody>\n",
       "    <tr>\n",
       "      <th>0</th>\n",
       "      <td>-0.439175</td>\n",
       "      <td>0.672155</td>\n",
       "      <td>5</td>\n",
       "      <td>uniforme</td>\n",
       "      <td>não</td>\n",
       "    </tr>\n",
       "    <tr>\n",
       "      <th>1</th>\n",
       "      <td>-1.082492</td>\n",
       "      <td>0.310580</td>\n",
       "      <td>7</td>\n",
       "      <td>uniforme</td>\n",
       "      <td>não</td>\n",
       "    </tr>\n",
       "    <tr>\n",
       "      <th>2</th>\n",
       "      <td>-0.969378</td>\n",
       "      <td>0.360747</td>\n",
       "      <td>9</td>\n",
       "      <td>uniforme</td>\n",
       "      <td>não</td>\n",
       "    </tr>\n",
       "    <tr>\n",
       "      <th>3</th>\n",
       "      <td>-0.938073</td>\n",
       "      <td>0.375660</td>\n",
       "      <td>11</td>\n",
       "      <td>uniforme</td>\n",
       "      <td>não</td>\n",
       "    </tr>\n",
       "    <tr>\n",
       "      <th>4</th>\n",
       "      <td>0.114267</td>\n",
       "      <td>0.911842</td>\n",
       "      <td>3</td>\n",
       "      <td>distancia</td>\n",
       "      <td>não</td>\n",
       "    </tr>\n",
       "    <tr>\n",
       "      <th>5</th>\n",
       "      <td>-0.343649</td>\n",
       "      <td>0.739967</td>\n",
       "      <td>5</td>\n",
       "      <td>distancia</td>\n",
       "      <td>não</td>\n",
       "    </tr>\n",
       "    <tr>\n",
       "      <th>6</th>\n",
       "      <td>-0.982536</td>\n",
       "      <td>0.354613</td>\n",
       "      <td>7</td>\n",
       "      <td>distancia</td>\n",
       "      <td>não</td>\n",
       "    </tr>\n",
       "    <tr>\n",
       "      <th>7</th>\n",
       "      <td>-1.186837</td>\n",
       "      <td>0.269337</td>\n",
       "      <td>9</td>\n",
       "      <td>distancia</td>\n",
       "      <td>não</td>\n",
       "    </tr>\n",
       "    <tr>\n",
       "      <th>8</th>\n",
       "      <td>-0.960920</td>\n",
       "      <td>0.364732</td>\n",
       "      <td>11</td>\n",
       "      <td>distancia</td>\n",
       "      <td>não</td>\n",
       "    </tr>\n",
       "    <tr>\n",
       "      <th>0</th>\n",
       "      <td>-0.072209</td>\n",
       "      <td>0.944208</td>\n",
       "      <td>3</td>\n",
       "      <td>uniforme</td>\n",
       "      <td>sim</td>\n",
       "    </tr>\n",
       "    <tr>\n",
       "      <th>1</th>\n",
       "      <td>-1.237710</td>\n",
       "      <td>0.250916</td>\n",
       "      <td>5</td>\n",
       "      <td>uniforme</td>\n",
       "      <td>sim</td>\n",
       "    </tr>\n",
       "    <tr>\n",
       "      <th>2</th>\n",
       "      <td>-1.288087</td>\n",
       "      <td>0.233721</td>\n",
       "      <td>7</td>\n",
       "      <td>uniforme</td>\n",
       "      <td>sim</td>\n",
       "    </tr>\n",
       "    <tr>\n",
       "      <th>3</th>\n",
       "      <td>-0.990249</td>\n",
       "      <td>0.351054</td>\n",
       "      <td>9</td>\n",
       "      <td>uniforme</td>\n",
       "      <td>sim</td>\n",
       "    </tr>\n",
       "    <tr>\n",
       "      <th>4</th>\n",
       "      <td>-0.719573</td>\n",
       "      <td>0.492271</td>\n",
       "      <td>11</td>\n",
       "      <td>uniforme</td>\n",
       "      <td>sim</td>\n",
       "    </tr>\n",
       "    <tr>\n",
       "      <th>5</th>\n",
       "      <td>0.149687</td>\n",
       "      <td>0.884717</td>\n",
       "      <td>3</td>\n",
       "      <td>distancia</td>\n",
       "      <td>sim</td>\n",
       "    </tr>\n",
       "    <tr>\n",
       "      <th>6</th>\n",
       "      <td>-1.052790</td>\n",
       "      <td>0.323194</td>\n",
       "      <td>5</td>\n",
       "      <td>distancia</td>\n",
       "      <td>sim</td>\n",
       "    </tr>\n",
       "    <tr>\n",
       "      <th>7</th>\n",
       "      <td>-1.159985</td>\n",
       "      <td>0.279501</td>\n",
       "      <td>7</td>\n",
       "      <td>distancia</td>\n",
       "      <td>sim</td>\n",
       "    </tr>\n",
       "    <tr>\n",
       "      <th>8</th>\n",
       "      <td>-0.777369</td>\n",
       "      <td>0.459309</td>\n",
       "      <td>9</td>\n",
       "      <td>distancia</td>\n",
       "      <td>sim</td>\n",
       "    </tr>\n",
       "    <tr>\n",
       "      <th>9</th>\n",
       "      <td>-0.651453</td>\n",
       "      <td>0.533018</td>\n",
       "      <td>11</td>\n",
       "      <td>distancia</td>\n",
       "      <td>sim</td>\n",
       "    </tr>\n",
       "  </tbody>\n",
       "</table>\n",
       "</div>"
      ],
      "text/plain": [
       "       stat         p   k       peso mice\n",
       "0 -0.439175  0.672155   5   uniforme  não\n",
       "1 -1.082492  0.310580   7   uniforme  não\n",
       "2 -0.969378  0.360747   9   uniforme  não\n",
       "3 -0.938073  0.375660  11   uniforme  não\n",
       "4  0.114267  0.911842   3  distancia  não\n",
       "5 -0.343649  0.739967   5  distancia  não\n",
       "6 -0.982536  0.354613   7  distancia  não\n",
       "7 -1.186837  0.269337   9  distancia  não\n",
       "8 -0.960920  0.364732  11  distancia  não\n",
       "0 -0.072209  0.944208   3   uniforme  sim\n",
       "1 -1.237710  0.250916   5   uniforme  sim\n",
       "2 -1.288087  0.233721   7   uniforme  sim\n",
       "3 -0.990249  0.351054   9   uniforme  sim\n",
       "4 -0.719573  0.492271  11   uniforme  sim\n",
       "5  0.149687  0.884717   3  distancia  sim\n",
       "6 -1.052790  0.323194   5  distancia  sim\n",
       "7 -1.159985  0.279501   7  distancia  sim\n",
       "8 -0.777369  0.459309   9  distancia  sim\n",
       "9 -0.651453  0.533018  11  distancia  sim"
      ]
     },
     "execution_count": 70,
     "metadata": {},
     "output_type": "execute_result"
    }
   ],
   "source": [
    "t_student = pd.concat([t_student_sem_mice, t_student_com_mice])\n",
    "t_student"
   ]
  },
  {
   "attachments": {},
   "cell_type": "markdown",
   "metadata": {},
   "source": [
    "# Análise dos p-values obtidos com t student"
   ]
  },
  {
   "cell_type": "code",
   "execution_count": 76,
   "metadata": {},
   "outputs": [
    {
     "data": {
      "image/png": "[encoded data removed]",
      "text/plain": [
       "<Figure size 640x480 with 1 Axes>"
      ]
     },
     "metadata": {},
     "output_type": "display_data"
    }
   ],
   "source": [
    "import numpy as np\n",
    "import matplotlib.pyplot as plt\n",
    "from scipy.stats import norm, t\n",
    "\n",
    "df = 10  # graus de liberdade\n",
    "\n",
    "x = np.linspace(-4, 4, num=250)\n",
    "pdf_normal = norm.pdf(x)\n",
    "\n",
    "p_values = t_student['p']  # níveis de significância\n",
    "for p in p_values:\n",
    "    t_value = t.ppf(1 - p / 2, df=df)  # valor de t-Student para o nível de significância p\n",
    "    pdf_t = t.pdf(x, df=df)\n",
    "    plt.scatter(t_value, t.pdf(t_value, df=df), s=100, label=f'p-value {p:.2}')\n",
    "\n",
    "plt.plot(x, pdf_normal, label='Distribuição Normal')\n",
    "plt.xlabel('Valores de t')\n",
    "plt.ylabel('Densidade de Probabilidade')\n",
    "plt.title('Distribuição Normal com Valores de t-Student para diferentes p-values')\n",
    "plt.legend(bbox_to_anchor=(1.05, 1), loc='upper left')\n",
    "plt.show()"
   ]
  },
  {
   "attachments": {},
   "cell_type": "markdown",
   "metadata": {},
   "source": [
    "### Definindo a hipótese nula como: o modelo baseline é o melhor modelo para esse problema de classificação.\n",
    "### A porcentagem de acurácia obtida com o baseline foi 72.79%. A melhor porcentagem de acurácia obtida foi 75.40% utilizando k=7, com distância uniforme e atributos ausentes.\n",
    "### Com base nos valores e no gráfico obtido foi possível concluir que não há diferença estatística entre o modelo baseline e os outros modelos propostos após as mudanças (MICE, mudanças no k e mudanças na forma de avaliação de peso do KNN) pois os p values obtidos estavam entre 0.05 e 0.95. \n",
    "### Com base nisso conclui-se que a hipótese nula não deve ser rejeitada."
   ]
  }
 ],
 "metadata": {
  "kernelspec": {
   "display_name": "Python 3",
   "language": "python",
   "name": "python3"
  },
  "language_info": {
   "codemirror_mode": {
    "name": "ipython",
    "version": 3
   },
   "file_extension": ".py",
   "mimetype": "text/x-python",
   "name": "python",
   "nbconvert_exporter": "python",
   "pygments_lexer": "ipython3",
   "version": "3.9.13"
  },
  "orig_nbformat": 4,
  "vscode": {
   "interpreter": {
    "hash": "3137e636412bd7678261ae97795285e9bce6306561e2f40224ebbf2c6e82d315"
   }
  }
 },
 "nbformat": 4,
 "nbformat_minor": 2
}
