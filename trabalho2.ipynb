{
 "cells": [
  {
   "attachments": {},
   "cell_type": "markdown",
   "metadata": {},
   "source": [
    "# Trabalho 2 - Introdução à Ciência de Dados\n",
    "\n",
    "### Dupla: Larissa Lewartoski Wong\n",
    "\n",
    "## Dataset escolhido: Diabetes"
   ]
  },
  {
   "cell_type": "code",
   "execution_count": 91,
   "metadata": {},
   "outputs": [],
   "source": [
    "import numpy as np\n",
    "import pandas as pd\n",
    "from matplotlib import pyplot as plt\n",
    "from sklearn.preprocessing import MinMaxScaler\n",
    "from sklearn.model_selection import KFold\n",
    "from sklearn.neighbors import KNeighborsClassifier\n",
    "from sklearn.metrics import accuracy_score, mean_squared_error\n",
    "from fancyimpute import IterativeImputer"
   ]
  },
  {
   "attachments": {},
   "cell_type": "markdown",
   "metadata": {},
   "source": [
    "## Carregando o dataset\n",
    "\n",
    "#### A variável header nomeia as colunas\n",
    "\n",
    "#### Os parâmetros passados para a função read_csv incluem:\n",
    "* comment='@' - para ignorar as linhas que se iniciam com @\n",
    "* skiprows - para ignorar as linhas anteriores à 84 (foi observado no arquivo arff que os dados começam após essas linhas)"
   ]
  },
  {
   "cell_type": "code",
   "execution_count": 92,
   "metadata": {},
   "outputs": [],
   "source": [
    "header = ['preg', 'plas', 'pres', 'skin', 'insu', 'mass', 'pedi', 'age', 'class']\n",
    "diabetes = pd.read_csv('dataset_37_diabetes.arff', comment='@', skiprows=84, header=None, na_values=['?'], names=header)"
   ]
  },
  {
   "cell_type": "code",
   "execution_count": 93,
   "metadata": {},
   "outputs": [
    {
     "data": {
      "text/html": [
       "<div>\n",
       "<style scoped>\n",
       "    .dataframe tbody tr th:only-of-type {\n",
       "        vertical-align: middle;\n",
       "    }\n",
       "\n",
       "    .dataframe tbody tr th {\n",
       "        vertical-align: top;\n",
       "    }\n",
       "\n",
       "    .dataframe thead th {\n",
       "        text-align: right;\n",
       "    }\n",
       "</style>\n",
       "<table border=\"1\" class=\"dataframe\">\n",
       "  <thead>\n",
       "    <tr style=\"text-align: right;\">\n",
       "      <th></th>\n",
       "      <th>preg</th>\n",
       "      <th>plas</th>\n",
       "      <th>pres</th>\n",
       "      <th>skin</th>\n",
       "      <th>insu</th>\n",
       "      <th>mass</th>\n",
       "      <th>pedi</th>\n",
       "      <th>age</th>\n",
       "      <th>class</th>\n",
       "    </tr>\n",
       "  </thead>\n",
       "  <tbody>\n",
       "    <tr>\n",
       "      <th>0</th>\n",
       "      <td>6</td>\n",
       "      <td>148</td>\n",
       "      <td>72</td>\n",
       "      <td>35</td>\n",
       "      <td>0</td>\n",
       "      <td>33.6</td>\n",
       "      <td>0.627</td>\n",
       "      <td>50</td>\n",
       "      <td>tested_positive</td>\n",
       "    </tr>\n",
       "    <tr>\n",
       "      <th>1</th>\n",
       "      <td>1</td>\n",
       "      <td>85</td>\n",
       "      <td>66</td>\n",
       "      <td>29</td>\n",
       "      <td>0</td>\n",
       "      <td>26.6</td>\n",
       "      <td>0.351</td>\n",
       "      <td>31</td>\n",
       "      <td>tested_negative</td>\n",
       "    </tr>\n",
       "    <tr>\n",
       "      <th>2</th>\n",
       "      <td>8</td>\n",
       "      <td>183</td>\n",
       "      <td>64</td>\n",
       "      <td>0</td>\n",
       "      <td>0</td>\n",
       "      <td>23.3</td>\n",
       "      <td>0.672</td>\n",
       "      <td>32</td>\n",
       "      <td>tested_positive</td>\n",
       "    </tr>\n",
       "    <tr>\n",
       "      <th>3</th>\n",
       "      <td>1</td>\n",
       "      <td>89</td>\n",
       "      <td>66</td>\n",
       "      <td>23</td>\n",
       "      <td>94</td>\n",
       "      <td>28.1</td>\n",
       "      <td>0.167</td>\n",
       "      <td>21</td>\n",
       "      <td>tested_negative</td>\n",
       "    </tr>\n",
       "    <tr>\n",
       "      <th>4</th>\n",
       "      <td>0</td>\n",
       "      <td>137</td>\n",
       "      <td>40</td>\n",
       "      <td>35</td>\n",
       "      <td>168</td>\n",
       "      <td>43.1</td>\n",
       "      <td>2.288</td>\n",
       "      <td>33</td>\n",
       "      <td>tested_positive</td>\n",
       "    </tr>\n",
       "    <tr>\n",
       "      <th>...</th>\n",
       "      <td>...</td>\n",
       "      <td>...</td>\n",
       "      <td>...</td>\n",
       "      <td>...</td>\n",
       "      <td>...</td>\n",
       "      <td>...</td>\n",
       "      <td>...</td>\n",
       "      <td>...</td>\n",
       "      <td>...</td>\n",
       "    </tr>\n",
       "    <tr>\n",
       "      <th>763</th>\n",
       "      <td>10</td>\n",
       "      <td>101</td>\n",
       "      <td>76</td>\n",
       "      <td>48</td>\n",
       "      <td>180</td>\n",
       "      <td>32.9</td>\n",
       "      <td>0.171</td>\n",
       "      <td>63</td>\n",
       "      <td>tested_negative</td>\n",
       "    </tr>\n",
       "    <tr>\n",
       "      <th>764</th>\n",
       "      <td>2</td>\n",
       "      <td>122</td>\n",
       "      <td>70</td>\n",
       "      <td>27</td>\n",
       "      <td>0</td>\n",
       "      <td>36.8</td>\n",
       "      <td>0.340</td>\n",
       "      <td>27</td>\n",
       "      <td>tested_negative</td>\n",
       "    </tr>\n",
       "    <tr>\n",
       "      <th>765</th>\n",
       "      <td>5</td>\n",
       "      <td>121</td>\n",
       "      <td>72</td>\n",
       "      <td>23</td>\n",
       "      <td>112</td>\n",
       "      <td>26.2</td>\n",
       "      <td>0.245</td>\n",
       "      <td>30</td>\n",
       "      <td>tested_negative</td>\n",
       "    </tr>\n",
       "    <tr>\n",
       "      <th>766</th>\n",
       "      <td>1</td>\n",
       "      <td>126</td>\n",
       "      <td>60</td>\n",
       "      <td>0</td>\n",
       "      <td>0</td>\n",
       "      <td>30.1</td>\n",
       "      <td>0.349</td>\n",
       "      <td>47</td>\n",
       "      <td>tested_positive</td>\n",
       "    </tr>\n",
       "    <tr>\n",
       "      <th>767</th>\n",
       "      <td>1</td>\n",
       "      <td>93</td>\n",
       "      <td>70</td>\n",
       "      <td>31</td>\n",
       "      <td>0</td>\n",
       "      <td>30.4</td>\n",
       "      <td>0.315</td>\n",
       "      <td>23</td>\n",
       "      <td>tested_negative</td>\n",
       "    </tr>\n",
       "  </tbody>\n",
       "</table>\n",
       "<p>768 rows × 9 columns</p>\n",
       "</div>"
      ],
      "text/plain": [
       "     preg  plas  pres  skin  insu  mass   pedi  age            class\n",
       "0       6   148    72    35     0  33.6  0.627   50  tested_positive\n",
       "1       1    85    66    29     0  26.6  0.351   31  tested_negative\n",
       "2       8   183    64     0     0  23.3  0.672   32  tested_positive\n",
       "3       1    89    66    23    94  28.1  0.167   21  tested_negative\n",
       "4       0   137    40    35   168  43.1  2.288   33  tested_positive\n",
       "..    ...   ...   ...   ...   ...   ...    ...  ...              ...\n",
       "763    10   101    76    48   180  32.9  0.171   63  tested_negative\n",
       "764     2   122    70    27     0  36.8  0.340   27  tested_negative\n",
       "765     5   121    72    23   112  26.2  0.245   30  tested_negative\n",
       "766     1   126    60     0     0  30.1  0.349   47  tested_positive\n",
       "767     1    93    70    31     0  30.4  0.315   23  tested_negative\n",
       "\n",
       "[768 rows x 9 columns]"
      ]
     },
     "execution_count": 93,
     "metadata": {},
     "output_type": "execute_result"
    }
   ],
   "source": [
    "diabetes"
   ]
  },
  {
   "attachments": {},
   "cell_type": "markdown",
   "metadata": {},
   "source": [
    "## Convertendo Nominais em Numéricos\n",
    "\n",
    "* Testes positivos serão convertidos em 1\n",
    "* Testes negativos em 0 "
   ]
  },
  {
   "cell_type": "code",
   "execution_count": 94,
   "metadata": {},
   "outputs": [],
   "source": [
    "diabetes['class'] = [0 if x == 'tested_negative' else 1 for x in diabetes['class']]\n",
    "diabetes_default = diabetes.copy()"
   ]
  },
  {
   "attachments": {},
   "cell_type": "markdown",
   "metadata": {},
   "source": [
    "## Tratando valores ausentes\n",
    "\n",
    "#### Observou-se que os valores ausentes estão representados como 0 em alguns atributos como insulina"
   ]
  },
  {
   "cell_type": "code",
   "execution_count": 95,
   "metadata": {},
   "outputs": [],
   "source": [
    "colunas_substituir = ['plas', 'pres', 'skin', 'insu', 'mass', 'pedi']\n",
    "diabetes[colunas_substituir] = diabetes[colunas_substituir].replace(0, np.nan)"
   ]
  },
  {
   "attachments": {},
   "cell_type": "markdown",
   "metadata": {},
   "source": [
    "### Utilizando MICE para completar os atributos faltantes"
   ]
  },
  {
   "cell_type": "code",
   "execution_count": 97,
   "metadata": {},
   "outputs": [],
   "source": [
    "imputer = IterativeImputer()\n",
    "\n",
    "diabetes_imputado = imputer.fit_transform(diabetes)\n",
    "diabetes_imputado = pd.DataFrame(diabetes_imputado, columns=diabetes.columns)"
   ]
  },
  {
   "attachments": {},
   "cell_type": "markdown",
   "metadata": {},
   "source": [
    "## Normalizando os dados"
   ]
  },
  {
   "cell_type": "code",
   "execution_count": 98,
   "metadata": {},
   "outputs": [],
   "source": [
    "scaler = MinMaxScaler()\n",
    "diabetes_norm = pd.DataFrame(scaler.fit_transform(diabetes_default), columns= diabetes_default.columns)\n",
    "diabetes_norm_mice = pd.DataFrame(scaler.fit_transform(diabetes_imputado), columns = diabetes_imputado.columns)"
   ]
  },
  {
   "attachments": {},
   "cell_type": "markdown",
   "metadata": {},
   "source": [
    "## Verificando a distribuição de classes\n",
    "\n",
    "* Com base na distribuição de classes obtida foi escolhido não realizar o balanceamento"
   ]
  },
  {
   "cell_type": "code",
   "execution_count": 99,
   "metadata": {},
   "outputs": [
    {
     "name": "stdout",
     "output_type": "stream",
     "text": [
      "Negatives: 500 | Positives: 268\n"
     ]
    },
    {
     "data": {
      "text/plain": [
       "<matplotlib.legend.Legend at 0x1ecf1b4ceb0>"
      ]
     },
     "execution_count": 99,
     "metadata": {},
     "output_type": "execute_result"
    },
    {
     "data": {
      "image/png": "[encoded data removed]",
      "text/plain": [
       "<Figure size 700x600 with 1 Axes>"
      ]
     },
     "metadata": {},
     "output_type": "display_data"
    }
   ],
   "source": [
    "zero = diabetes_norm[diabetes_norm['class'] == 0]['class'].size\n",
    "one = diabetes_norm[diabetes_norm['class'] == 1]['class'].size\n",
    "\n",
    "size = diabetes_norm['class'].size\n",
    "zero_label = str(round(zero*100/diabetes_norm['class'].size, 2)) + \" %\"\n",
    "one_label = str(round(one*100/diabetes_norm['class'].size, 2)) + \" %\"\n",
    "\n",
    "print('Negatives: {} | Positives: {}'.format(zero, one))\n",
    "fig = plt.figure(figsize = (7, 6))\n",
    "plt.bar([zero_label,one_label], [zero, one], color =['lightcoral', 'dodgerblue'],\n",
    "        width = 0.4)\n",
    "plt.xlabel(\"Classes\")\n",
    "plt.ylabel(\"Quantidade de registros\")\n",
    "plt.title(\"Distribuição das classes\")\n",
    "colors = {'Saudável':'lightcoral', 'Doente':'dodgerblue'}         \n",
    "labels = list(colors.keys())\n",
    "handles = [plt.Rectangle((0,0),1,1, color=colors[label]) for label in labels]\n",
    "plt.legend(handles, labels)"
   ]
  },
  {
   "attachments": {},
   "cell_type": "markdown",
   "metadata": {},
   "source": [
    "## Separando o dataset em 10 folds\n",
    "\n",
    "* Serão geradas 10 partes iguais para realização de comparação posterior"
   ]
  },
  {
   "cell_type": "code",
   "execution_count": 100,
   "metadata": {},
   "outputs": [],
   "source": [
    "kf = KFold(n_splits=10)"
   ]
  },
  {
   "attachments": {},
   "cell_type": "markdown",
   "metadata": {},
   "source": [
    "# Classificador default\n",
    "\n",
    "* Para o classificador default foram utilizados os parâmetros definidos na especificação do trabalho:\n",
    "    - K = 3\n",
    "    - Distância Euclideana\n",
    "\n",
    "As etapas de pré processamento para aplicação do KNN foram realizadas acima (normalização e conversão para atributos numéricos)"
   ]
  },
  {
   "cell_type": "code",
   "execution_count": 101,
   "metadata": {},
   "outputs": [],
   "source": [
    "knn_default = KNeighborsClassifier(n_neighbors=3, metric='euclidean')\n",
    "\n",
    "X_default = diabetes_norm.drop(['class'], axis=1)\n",
    "y_default = diabetes_norm['class']"
   ]
  },
  {
   "attachments": {},
   "cell_type": "markdown",
   "metadata": {},
   "source": [
    "## Acurácia para o default utilizando 10-fold cross validation"
   ]
  },
  {
   "attachments": {},
   "cell_type": "markdown",
   "metadata": {},
   "source": [
    "- KNN sem mice com k=3 e distância euclideana"
   ]
  },
  {
   "cell_type": "code",
   "execution_count": 104,
   "metadata": {},
   "outputs": [
    {
     "name": "stdout",
     "output_type": "stream",
     "text": [
      "Fold 0: 67.53%\n",
      "Fold 1: 83.12%\n",
      "Fold 2: 71.43%\n",
      "Fold 3: 72.73%\n",
      "Fold 4: 70.13%\n",
      "Fold 5: 74.03%\n",
      "Fold 6: 76.62%\n",
      "Fold 7: 83.12%\n",
      "Fold 8: 69.74%\n",
      "Fold 9: 76.32%\n",
      "Acurácia média do default: 74.48%\n"
     ]
    }
   ],
   "source": [
    "acuracia_default_sem_mice = []\n",
    "\n",
    "for i, (train_index, test_index) in enumerate(kf.split(X_default)):\n",
    "    X_train, X_test = X_default.iloc[train_index], X_default.iloc[test_index]\n",
    "    y_train, y_test = y_default.iloc[train_index], y_default.iloc[test_index]\n",
    "    \n",
    "    knn_default.fit(X_train, y_train)\n",
    "    \n",
    "    y_pred1 = knn_default.predict(X_test)\n",
    "    \n",
    "    acuracia = accuracy_score(y_test, y_pred1)\n",
    "    \n",
    "    acuracia_default_sem_mice.append(acuracia)\n",
    "    \n",
    "    print(f\"Fold {i}: {acuracia*100.0:.2f}%\")\n",
    "    \n",
    "acuracia_media_default_sem_mice = sum(acuracia_default_sem_mice) / len(acuracia_default_sem_mice) * 100\n",
    "\n",
    "\n",
    "print(\"Acurácia média do default: {:.2f}%\".format(acuracia_media_default_sem_mice))\n"
   ]
  },
  {
   "attachments": {},
   "cell_type": "markdown",
   "metadata": {},
   "source": [
    "# Modelo sugerido"
   ]
  },
  {
   "attachments": {},
   "cell_type": "markdown",
   "metadata": {},
   "source": [
    "### Para desenvolvimento do modelo sugerido foram testados valores de k: 3, 5, 7, 9 e 11 para verificar se alterar o valor poderia ser uma opção viável de melhoria do modelo mantendo a distância euclideana"
   ]
  },
  {
   "cell_type": "code",
   "execution_count": 105,
   "metadata": {},
   "outputs": [],
   "source": [
    "X_mice = diabetes_norm_mice.drop(['class'], axis=1)\n",
    "y_mice = diabetes_norm_mice['class']"
   ]
  },
  {
   "attachments": {},
   "cell_type": "markdown",
   "metadata": {},
   "source": [
    "## Testes sem MICE"
   ]
  },
  {
   "attachments": {},
   "cell_type": "markdown",
   "metadata": {},
   "source": [
    "### Variando o número de vizinhos\n",
    "\n",
    "### Com peso uniforme no KNN"
   ]
  },
  {
   "attachments": {},
   "cell_type": "markdown",
   "metadata": {},
   "source": [
    "#### Teste 1 n=5"
   ]
  },
  {
   "cell_type": "code",
   "execution_count": 116,
   "metadata": {},
   "outputs": [
    {
     "name": "stdout",
     "output_type": "stream",
     "text": [
      "Fold 0: 66.23%\n",
      "Fold 1: 85.71%\n",
      "Fold 2: 67.53%\n",
      "Fold 3: 70.13%\n",
      "Fold 4: 77.92%\n",
      "Fold 5: 71.43%\n",
      "Fold 6: 76.62%\n",
      "Fold 7: 83.12%\n",
      "Fold 8: 72.37%\n",
      "Fold 9: 73.68%\n",
      "Acurácia média n5: 74.48%\n"
     ]
    }
   ],
   "source": [
    "knn_n5 = KNeighborsClassifier(n_neighbors=5, metric='euclidean', weights='uniform')\n",
    "\n",
    "acuracia_n5 = []\n",
    "\n",
    "for i, (train_index, test_index) in enumerate(kf.split(X_default)):\n",
    "    X_train, X_test = X_default.iloc[train_index], X_default.iloc[test_index]\n",
    "    y_train, y_test = y_default.iloc[train_index], y_default.iloc[test_index]\n",
    "    \n",
    "    knn_n5.fit(X_train, y_train)\n",
    "    \n",
    "    y_pred1 = knn_n5.predict(X_test)\n",
    "    \n",
    "    acuracia = accuracy_score(y_test, y_pred1)\n",
    "    \n",
    "    acuracia_n5.append(acuracia)\n",
    "    \n",
    "    print(f\"Fold {i}: {acuracia*100.0:.2f}%\")\n",
    "    \n",
    "acuracia_media_n5 = sum(acuracia_n5) / len(acuracia_n5) * 100\n",
    "\n",
    "\n",
    "print(\"Acurácia média n5: {:.2f}%\".format(acuracia_media_n5))"
   ]
  },
  {
   "attachments": {},
   "cell_type": "markdown",
   "metadata": {},
   "source": [
    "#### Teste 2 n=7"
   ]
  },
  {
   "cell_type": "code",
   "execution_count": 117,
   "metadata": {},
   "outputs": [
    {
     "name": "stdout",
     "output_type": "stream",
     "text": [
      "Fold 0: 67.53%\n",
      "Fold 1: 87.01%\n",
      "Fold 2: 67.53%\n",
      "Fold 3: 68.83%\n",
      "Fold 4: 79.22%\n",
      "Fold 5: 75.32%\n",
      "Fold 6: 75.32%\n",
      "Fold 7: 81.82%\n",
      "Fold 8: 75.00%\n",
      "Fold 9: 75.00%\n",
      "Acurácia média n7: 75.26%\n"
     ]
    }
   ],
   "source": [
    "knn_n7 = KNeighborsClassifier(n_neighbors=7, metric='euclidean', weights='uniform')\n",
    "\n",
    "acuracia_n7 = []\n",
    "\n",
    "for i, (train_index, test_index) in enumerate(kf.split(X_default)):\n",
    "    X_train, X_test = X_default.iloc[train_index], X_default.iloc[test_index]\n",
    "    y_train, y_test = y_default.iloc[train_index], y_default.iloc[test_index]\n",
    "    \n",
    "    knn_n7.fit(X_train, y_train)\n",
    "    \n",
    "    y_pred1 = knn_n7.predict(X_test)\n",
    "    \n",
    "    acuracia = accuracy_score(y_test, y_pred1)\n",
    "    \n",
    "    acuracia_n7.append(acuracia)\n",
    "    \n",
    "    print(f\"Fold {i}: {acuracia*100.0:.2f}%\")\n",
    "    \n",
    "acuracia_media_n7 = sum(acuracia_n7) / len(acuracia_n7) * 100\n",
    "\n",
    "\n",
    "print(\"Acurácia média n7: {:.2f}%\".format(acuracia_media_n7))"
   ]
  },
  {
   "attachments": {},
   "cell_type": "markdown",
   "metadata": {},
   "source": [
    "#### Teste 3 n=9"
   ]
  },
  {
   "cell_type": "code",
   "execution_count": 118,
   "metadata": {},
   "outputs": [
    {
     "name": "stdout",
     "output_type": "stream",
     "text": [
      "Fold 0: 67.53%\n",
      "Fold 1: 81.82%\n",
      "Fold 2: 68.83%\n",
      "Fold 3: 67.53%\n",
      "Fold 4: 79.22%\n",
      "Fold 5: 74.03%\n",
      "Fold 6: 74.03%\n",
      "Fold 7: 83.12%\n",
      "Fold 8: 75.00%\n",
      "Fold 9: 76.32%\n",
      "Acurácia média n9: 74.74%\n"
     ]
    }
   ],
   "source": [
    "knn_n9 = KNeighborsClassifier(n_neighbors=9, metric='euclidean', weights='uniform')\n",
    "\n",
    "acuracia_n9 = []\n",
    "\n",
    "for i, (train_index, test_index) in enumerate(kf.split(X_default)):\n",
    "    X_train, X_test = X_default.iloc[train_index], X_default.iloc[test_index]\n",
    "    y_train, y_test = y_default.iloc[train_index], y_default.iloc[test_index]\n",
    "    \n",
    "    knn_n9.fit(X_train, y_train)\n",
    "    \n",
    "    y_pred1 = knn_n9.predict(X_test)\n",
    "    \n",
    "    acuracia = accuracy_score(y_test, y_pred1)\n",
    "    \n",
    "    acuracia_n9.append(acuracia)\n",
    "    \n",
    "    print(f\"Fold {i}: {acuracia*100.0:.2f}%\")\n",
    "    \n",
    "acuracia_media_n9 = sum(acuracia_n9) / len(acuracia_n9) * 100\n",
    "\n",
    "\n",
    "print(\"Acurácia média n9: {:.2f}%\".format(acuracia_media_n9))"
   ]
  },
  {
   "attachments": {},
   "cell_type": "markdown",
   "metadata": {},
   "source": [
    "#### Teste 4 n=11"
   ]
  },
  {
   "cell_type": "code",
   "execution_count": 119,
   "metadata": {},
   "outputs": [
    {
     "name": "stdout",
     "output_type": "stream",
     "text": [
      "Fold 0: 64.94%\n",
      "Fold 1: 84.42%\n",
      "Fold 2: 67.53%\n",
      "Fold 3: 70.13%\n",
      "Fold 4: 77.92%\n",
      "Fold 5: 75.32%\n",
      "Fold 6: 76.62%\n",
      "Fold 7: 80.52%\n",
      "Fold 8: 73.68%\n",
      "Fold 9: 75.00%\n",
      "Acurácia média n11: 74.61%\n"
     ]
    }
   ],
   "source": [
    "knn_n11 = KNeighborsClassifier(n_neighbors=11, metric='euclidean', weights='uniform')\n",
    "\n",
    "acuracia_n11 = []\n",
    "\n",
    "for i, (train_index, test_index) in enumerate(kf.split(X_default)):\n",
    "    X_train, X_test = X_default.iloc[train_index], X_default.iloc[test_index]\n",
    "    y_train, y_test = y_default.iloc[train_index], y_default.iloc[test_index]\n",
    "    \n",
    "    knn_n11.fit(X_train, y_train)\n",
    "    \n",
    "    y_pred1 = knn_n11.predict(X_test)\n",
    "    \n",
    "    acuracia = accuracy_score(y_test, y_pred1)\n",
    "    \n",
    "    acuracia_n11.append(acuracia)\n",
    "    \n",
    "    print(f\"Fold {i}: {acuracia*100.0:.2f}%\")\n",
    "    \n",
    "acuracia_media_n11 = sum(acuracia_n11) / len(acuracia_n11) * 100\n",
    "\n",
    "\n",
    "print(\"Acurácia média n11: {:.2f}%\".format(acuracia_media_n11))"
   ]
  },
  {
   "attachments": {},
   "cell_type": "markdown",
   "metadata": {},
   "source": [
    "### Variando o número de vizinhos\n",
    "\n",
    "### Com peso inversamente proporcional à distância dos vizinhos"
   ]
  },
  {
   "attachments": {},
   "cell_type": "markdown",
   "metadata": {},
   "source": [
    "#### Teste 1 n=3"
   ]
  },
  {
   "cell_type": "code",
   "execution_count": 120,
   "metadata": {},
   "outputs": [
    {
     "name": "stdout",
     "output_type": "stream",
     "text": [
      "Fold 0: 67.53%\n",
      "Fold 1: 81.82%\n",
      "Fold 2: 71.43%\n",
      "Fold 3: 72.73%\n",
      "Fold 4: 70.13%\n",
      "Fold 5: 72.73%\n",
      "Fold 6: 76.62%\n",
      "Fold 7: 83.12%\n",
      "Fold 8: 69.74%\n",
      "Fold 9: 77.63%\n",
      "Acurácia média n5: 74.35%\n"
     ]
    }
   ],
   "source": [
    "knn_n3 = KNeighborsClassifier(n_neighbors=3, metric='euclidean', weights='distance')\n",
    "\n",
    "acuracia_n3 = []\n",
    "\n",
    "for i, (train_index, test_index) in enumerate(kf.split(X_default)):\n",
    "    X_train, X_test = X_default.iloc[train_index], X_default.iloc[test_index]\n",
    "    y_train, y_test = y_default.iloc[train_index], y_default.iloc[test_index]\n",
    "    \n",
    "    knn_n3.fit(X_train, y_train)\n",
    "    \n",
    "    y_pred1 = knn_n3.predict(X_test)\n",
    "    \n",
    "    acuracia = accuracy_score(y_test, y_pred1)\n",
    "    \n",
    "    acuracia_n3.append(acuracia)\n",
    "    \n",
    "    print(f\"Fold {i}: {acuracia*100.0:.2f}%\")\n",
    "    \n",
    "acuracia_media_n3 = sum(acuracia_n3) / len(acuracia_n3) * 100\n",
    "\n",
    "\n",
    "print(\"Acurácia média n5: {:.2f}%\".format(acuracia_media_n3))"
   ]
  },
  {
   "attachments": {},
   "cell_type": "markdown",
   "metadata": {},
   "source": [
    "#### Teste 2 n=5"
   ]
  },
  {
   "cell_type": "code",
   "execution_count": 122,
   "metadata": {},
   "outputs": [
    {
     "name": "stdout",
     "output_type": "stream",
     "text": [
      "Fold 0: 66.23%\n",
      "Fold 1: 84.42%\n",
      "Fold 2: 66.23%\n",
      "Fold 3: 70.13%\n",
      "Fold 4: 77.92%\n",
      "Fold 5: 71.43%\n",
      "Fold 6: 76.62%\n",
      "Fold 7: 81.82%\n",
      "Fold 8: 72.37%\n",
      "Fold 9: 75.00%\n",
      "Acurácia média n5: 74.22%\n"
     ]
    }
   ],
   "source": [
    "knn_n5 = KNeighborsClassifier(n_neighbors=5, metric='euclidean', weights='distance')\n",
    "\n",
    "acuracia_n5 = []\n",
    "\n",
    "for i, (train_index, test_index) in enumerate(kf.split(X_default)):\n",
    "    X_train, X_test = X_default.iloc[train_index], X_default.iloc[test_index]\n",
    "    y_train, y_test = y_default.iloc[train_index], y_default.iloc[test_index]\n",
    "    \n",
    "    knn_n5.fit(X_train, y_train)\n",
    "    \n",
    "    y_pred1 = knn_n5.predict(X_test)\n",
    "    \n",
    "    acuracia = accuracy_score(y_test, y_pred1)\n",
    "    \n",
    "    acuracia_n5.append(acuracia)\n",
    "    \n",
    "    print(f\"Fold {i}: {acuracia*100.0:.2f}%\")\n",
    "    \n",
    "acuracia_media_n5 = sum(acuracia_n5) / len(acuracia_n5) * 100\n",
    "\n",
    "print(\"Acurácia média n5: {:.2f}%\".format(acuracia_media_n5))"
   ]
  },
  {
   "attachments": {},
   "cell_type": "markdown",
   "metadata": {},
   "source": [
    "#### Teste 3 n=7"
   ]
  },
  {
   "cell_type": "code",
   "execution_count": 123,
   "metadata": {},
   "outputs": [
    {
     "name": "stdout",
     "output_type": "stream",
     "text": [
      "Fold 0: 67.53%\n",
      "Fold 1: 85.71%\n",
      "Fold 2: 64.94%\n",
      "Fold 3: 68.83%\n",
      "Fold 4: 79.22%\n",
      "Fold 5: 75.32%\n",
      "Fold 6: 76.62%\n",
      "Fold 7: 81.82%\n",
      "Fold 8: 75.00%\n",
      "Fold 9: 75.00%\n",
      "Acurácia média n7: 75.00%\n"
     ]
    }
   ],
   "source": [
    "knn_n7 = KNeighborsClassifier(n_neighbors=7, metric='euclidean', weights='distance')\n",
    "\n",
    "acuracia_n7 = []\n",
    "\n",
    "for i, (train_index, test_index) in enumerate(kf.split(X_default)):\n",
    "    X_train, X_test = X_default.iloc[train_index], X_default.iloc[test_index]\n",
    "    y_train, y_test = y_default.iloc[train_index], y_default.iloc[test_index]\n",
    "    \n",
    "    knn_n7.fit(X_train, y_train)\n",
    "    \n",
    "    y_pred1 = knn_n7.predict(X_test)\n",
    "    \n",
    "    acuracia = accuracy_score(y_test, y_pred1)\n",
    "    \n",
    "    acuracia_n7.append(acuracia)\n",
    "    \n",
    "    print(f\"Fold {i}: {acuracia*100.0:.2f}%\")\n",
    "    \n",
    "acuracia_media_n7 = sum(acuracia_n7) / len(acuracia_n7) * 100\n",
    "\n",
    "\n",
    "print(\"Acurácia média n7: {:.2f}%\".format(acuracia_media_n7))"
   ]
  },
  {
   "attachments": {},
   "cell_type": "markdown",
   "metadata": {},
   "source": [
    "#### Teste 4 n=9"
   ]
  },
  {
   "cell_type": "code",
   "execution_count": 124,
   "metadata": {},
   "outputs": [
    {
     "name": "stdout",
     "output_type": "stream",
     "text": [
      "Fold 0: 68.83%\n",
      "Fold 1: 84.42%\n",
      "Fold 2: 66.23%\n",
      "Fold 3: 67.53%\n",
      "Fold 4: 80.52%\n",
      "Fold 5: 72.73%\n",
      "Fold 6: 76.62%\n",
      "Fold 7: 83.12%\n",
      "Fold 8: 75.00%\n",
      "Fold 9: 76.32%\n",
      "Acurácia média n9: 75.13%\n"
     ]
    }
   ],
   "source": [
    "knn_n9 = KNeighborsClassifier(n_neighbors=9, metric='euclidean', weights='distance')\n",
    "\n",
    "acuracia_n9 = []\n",
    "\n",
    "for i, (train_index, test_index) in enumerate(kf.split(X_default)):\n",
    "    X_train, X_test = X_default.iloc[train_index], X_default.iloc[test_index]\n",
    "    y_train, y_test = y_default.iloc[train_index], y_default.iloc[test_index]\n",
    "    \n",
    "    knn_n9.fit(X_train, y_train)\n",
    "    \n",
    "    y_pred1 = knn_n9.predict(X_test)\n",
    "    \n",
    "    acuracia = accuracy_score(y_test, y_pred1)\n",
    "    \n",
    "    acuracia_n9.append(acuracia)\n",
    "    \n",
    "    print(f\"Fold {i}: {acuracia*100.0:.2f}%\")\n",
    "    \n",
    "acuracia_media_n9 = sum(acuracia_n9) / len(acuracia_n9) * 100\n",
    "\n",
    "\n",
    "print(\"Acurácia média n9: {:.2f}%\".format(acuracia_media_n9))"
   ]
  },
  {
   "attachments": {},
   "cell_type": "markdown",
   "metadata": {},
   "source": [
    "#### Teste 5 n=11"
   ]
  },
  {
   "cell_type": "code",
   "execution_count": 125,
   "metadata": {},
   "outputs": [
    {
     "name": "stdout",
     "output_type": "stream",
     "text": [
      "Fold 0: 64.94%\n",
      "Fold 1: 85.71%\n",
      "Fold 2: 66.23%\n",
      "Fold 3: 70.13%\n",
      "Fold 4: 80.52%\n",
      "Fold 5: 74.03%\n",
      "Fold 6: 77.92%\n",
      "Fold 7: 80.52%\n",
      "Fold 8: 73.68%\n",
      "Fold 9: 76.32%\n",
      "Acurácia média n11: 75.00%\n"
     ]
    }
   ],
   "source": [
    "knn_n11 = KNeighborsClassifier(n_neighbors=11, metric='euclidean', weights='distance')\n",
    "\n",
    "acuracia_n11 = []\n",
    "\n",
    "for i, (train_index, test_index) in enumerate(kf.split(X_default)):\n",
    "    X_train, X_test = X_default.iloc[train_index], X_default.iloc[test_index]\n",
    "    y_train, y_test = y_default.iloc[train_index], y_default.iloc[test_index]\n",
    "    \n",
    "    knn_n11.fit(X_train, y_train)\n",
    "    \n",
    "    y_pred1 = knn_n11.predict(X_test)\n",
    "    \n",
    "    acuracia = accuracy_score(y_test, y_pred1)\n",
    "    \n",
    "    acuracia_n11.append(acuracia)\n",
    "    \n",
    "    print(f\"Fold {i}: {acuracia*100.0:.2f}%\")\n",
    "    \n",
    "acuracia_media_n11 = sum(acuracia_n11) / len(acuracia_n11) * 100\n",
    "\n",
    "\n",
    "print(\"Acurácia média n11: {:.2f}%\".format(acuracia_media_n11))"
   ]
  },
  {
   "attachments": {},
   "cell_type": "markdown",
   "metadata": {},
   "source": [
    "### Variando a medida de distância"
   ]
  },
  {
   "attachments": {},
   "cell_type": "markdown",
   "metadata": {},
   "source": [
    "## Testes com MICE"
   ]
  },
  {
   "attachments": {},
   "cell_type": "markdown",
   "metadata": {},
   "source": [
    "### Variando o número de vizinhos \n",
    "### Com peso uniforme no KNN"
   ]
  },
  {
   "attachments": {},
   "cell_type": "markdown",
   "metadata": {},
   "source": [
    "#### Teste 1 n=3"
   ]
  },
  {
   "cell_type": "code",
   "execution_count": 136,
   "metadata": {},
   "outputs": [
    {
     "name": "stdout",
     "output_type": "stream",
     "text": [
      "Fold 0: 71.43%\n",
      "Fold 1: 79.22%\n",
      "Fold 2: 71.43%\n",
      "Fold 3: 70.13%\n",
      "Fold 4: 75.32%\n",
      "Fold 5: 72.73%\n",
      "Fold 6: 72.73%\n",
      "Fold 7: 81.82%\n",
      "Fold 8: 65.79%\n",
      "Fold 9: 73.68%\n",
      "Acurácia média n3 utilizando mice: 73.43%\n"
     ]
    }
   ],
   "source": [
    "knn_n3 = KNeighborsClassifier(n_neighbors=3, metric='euclidean', weights='uniform')\n",
    "\n",
    "acuracia_n3 = []\n",
    "\n",
    "for i, (train_index, test_index) in enumerate(kf.split(X_mice)):\n",
    "    X_train, X_test = X_mice.iloc[train_index], X_mice.iloc[test_index]\n",
    "    y_train, y_test = y_mice.iloc[train_index], y_mice.iloc[test_index]\n",
    "    \n",
    "    knn_n3.fit(X_train, y_train)\n",
    "    \n",
    "    y_pred1 = knn_n3.predict(X_test)\n",
    "    \n",
    "    acuracia = accuracy_score(y_test, y_pred1)\n",
    "    \n",
    "    acuracia_n3.append(acuracia)\n",
    "    \n",
    "    print(f\"Fold {i}: {acuracia*100.0:.2f}%\")\n",
    "    \n",
    "acuracia_media_n3 = sum(acuracia_n3) / len(acuracia_n3) * 100\n",
    "\n",
    "\n",
    "print(\"Acurácia média n3 utilizando mice: {:.2f}%\".format(acuracia_media_n3))"
   ]
  },
  {
   "attachments": {},
   "cell_type": "markdown",
   "metadata": {},
   "source": [
    "#### Teste 2 n=5"
   ]
  },
  {
   "cell_type": "code",
   "execution_count": 137,
   "metadata": {},
   "outputs": [
    {
     "name": "stdout",
     "output_type": "stream",
     "text": [
      "Fold 0: 68.83%\n",
      "Fold 1: 84.42%\n",
      "Fold 2: 76.62%\n",
      "Fold 3: 66.23%\n",
      "Fold 4: 74.03%\n",
      "Fold 5: 74.03%\n",
      "Fold 6: 79.22%\n",
      "Fold 7: 84.42%\n",
      "Fold 8: 72.37%\n",
      "Fold 9: 76.32%\n",
      "Acurácia média n5 utilizando mice: 75.65%\n"
     ]
    }
   ],
   "source": [
    "knn_n5 = KNeighborsClassifier(n_neighbors=5, metric='euclidean', weights='uniform')\n",
    "\n",
    "acuracia_n5 = []\n",
    "\n",
    "for i, (train_index, test_index) in enumerate(kf.split(X_mice)):\n",
    "    X_train, X_test = X_mice.iloc[train_index], X_mice.iloc[test_index]\n",
    "    y_train, y_test = y_mice.iloc[train_index], y_mice.iloc[test_index]\n",
    "    \n",
    "    knn_n5.fit(X_train, y_train)\n",
    "    \n",
    "    y_pred1 = knn_n5.predict(X_test)\n",
    "    \n",
    "    acuracia = accuracy_score(y_test, y_pred1)\n",
    "    \n",
    "    acuracia_n5.append(acuracia)\n",
    "    \n",
    "    print(f\"Fold {i}: {acuracia*100.0:.2f}%\")\n",
    "    \n",
    "acuracia_media_n5 = sum(acuracia_n5) / len(acuracia_n5) * 100\n",
    "\n",
    "\n",
    "print(\"Acurácia média n5 utilizando mice: {:.2f}%\".format(acuracia_media_n5))"
   ]
  },
  {
   "attachments": {},
   "cell_type": "markdown",
   "metadata": {},
   "source": [
    "#### Teste 3 n=7"
   ]
  },
  {
   "cell_type": "code",
   "execution_count": 133,
   "metadata": {},
   "outputs": [
    {
     "name": "stdout",
     "output_type": "stream",
     "text": [
      "Fold 0: 67.53%\n",
      "Fold 1: 84.42%\n",
      "Fold 2: 77.92%\n",
      "Fold 3: 66.23%\n",
      "Fold 4: 80.52%\n",
      "Fold 5: 74.03%\n",
      "Fold 6: 76.62%\n",
      "Fold 7: 84.42%\n",
      "Fold 8: 72.37%\n",
      "Fold 9: 76.32%\n",
      "Acurácia média n7 utilizando mice: 76.04%\n"
     ]
    }
   ],
   "source": [
    "knn_n7 = KNeighborsClassifier(n_neighbors=7, metric='euclidean', weights='uniform')\n",
    "\n",
    "acuracia_n7 = []\n",
    "\n",
    "for i, (train_index, test_index) in enumerate(kf.split(X_mice)):\n",
    "    X_train, X_test = X_mice.iloc[train_index], X_mice.iloc[test_index]\n",
    "    y_train, y_test = y_mice.iloc[train_index], y_mice.iloc[test_index]\n",
    "    \n",
    "    knn_n7.fit(X_train, y_train)\n",
    "    \n",
    "    y_pred1 = knn_n7.predict(X_test)\n",
    "    \n",
    "    acuracia = accuracy_score(y_test, y_pred1)\n",
    "    \n",
    "    acuracia_n7.append(acuracia)\n",
    "    \n",
    "    print(f\"Fold {i}: {acuracia*100.0:.2f}%\")\n",
    "    \n",
    "acuracia_media_n7 = sum(acuracia_n7) / len(acuracia_n7) * 100\n",
    "\n",
    "\n",
    "print(\"Acurácia média n7 utilizando mice: {:.2f}%\".format(acuracia_media_n7))"
   ]
  },
  {
   "attachments": {},
   "cell_type": "markdown",
   "metadata": {},
   "source": [
    "#### Teste 4 n=9"
   ]
  },
  {
   "cell_type": "code",
   "execution_count": 131,
   "metadata": {},
   "outputs": [
    {
     "name": "stdout",
     "output_type": "stream",
     "text": [
      "Fold 0: 63.64%\n",
      "Fold 1: 85.71%\n",
      "Fold 2: 77.92%\n",
      "Fold 3: 64.94%\n",
      "Fold 4: 79.22%\n",
      "Fold 5: 75.32%\n",
      "Fold 6: 80.52%\n",
      "Fold 7: 80.52%\n",
      "Fold 8: 75.00%\n",
      "Fold 9: 78.95%\n",
      "Acurácia média n9 utilizando mice: 76.17%\n"
     ]
    }
   ],
   "source": [
    "knn_n9 = KNeighborsClassifier(n_neighbors=9, metric='euclidean', weights='uniform')\n",
    "\n",
    "acuracia_n9 = []\n",
    "\n",
    "for i, (train_index, test_index) in enumerate(kf.split(X_mice)):\n",
    "    X_train, X_test = X_mice.iloc[train_index], X_mice.iloc[test_index]\n",
    "    y_train, y_test = y_mice.iloc[train_index], y_mice.iloc[test_index]\n",
    "    \n",
    "    knn_n9.fit(X_train, y_train)\n",
    "    \n",
    "    y_pred1 = knn_n9.predict(X_test)\n",
    "    \n",
    "    acuracia = accuracy_score(y_test, y_pred1)\n",
    "    \n",
    "    acuracia_n9.append(acuracia)\n",
    "    \n",
    "    print(f\"Fold {i}: {acuracia*100.0:.2f}%\")\n",
    "    \n",
    "acuracia_media_n9 = sum(acuracia_n9) / len(acuracia_n9) * 100\n",
    "\n",
    "\n",
    "print(\"Acurácia média n9 utilizando mice: {:.2f}%\".format(acuracia_media_n9))"
   ]
  },
  {
   "attachments": {},
   "cell_type": "markdown",
   "metadata": {},
   "source": [
    "#### Teste 5 n=11"
   ]
  },
  {
   "cell_type": "code",
   "execution_count": 135,
   "metadata": {},
   "outputs": [
    {
     "name": "stdout",
     "output_type": "stream",
     "text": [
      "Fold 0: 66.23%\n",
      "Fold 1: 88.31%\n",
      "Fold 2: 72.73%\n",
      "Fold 3: 63.64%\n",
      "Fold 4: 77.92%\n",
      "Fold 5: 75.32%\n",
      "Fold 6: 79.22%\n",
      "Fold 7: 83.12%\n",
      "Fold 8: 75.00%\n",
      "Fold 9: 78.95%\n",
      "Acurácia média n11 utilizando mice: 76.04%\n"
     ]
    }
   ],
   "source": [
    "knn_n11 = KNeighborsClassifier(n_neighbors=11, metric='euclidean', weights='uniform')\n",
    "\n",
    "acuracia_n11 = []\n",
    "\n",
    "for i, (train_index, test_index) in enumerate(kf.split(X_mice)):\n",
    "    X_train, X_test = X_mice.iloc[train_index], X_mice.iloc[test_index]\n",
    "    y_train, y_test = y_mice.iloc[train_index], y_mice.iloc[test_index]\n",
    "    \n",
    "    knn_n11.fit(X_train, y_train)\n",
    "    \n",
    "    y_pred1 = knn_n11.predict(X_test)\n",
    "    \n",
    "    acuracia = accuracy_score(y_test, y_pred1)\n",
    "    \n",
    "    acuracia_n11.append(acuracia)\n",
    "    \n",
    "    print(f\"Fold {i}: {acuracia*100.0:.2f}%\")\n",
    "    \n",
    "acuracia_media_n11 = sum(acuracia_n11) / len(acuracia_n11) * 100\n",
    "\n",
    "\n",
    "print(\"Acurácia média n11 utilizando mice: {:.2f}%\".format(acuracia_media_n11))"
   ]
  },
  {
   "attachments": {},
   "cell_type": "markdown",
   "metadata": {},
   "source": [
    "### Variando o número de vizinhos\n",
    "\n",
    "### Com peso inversamente proporcional à distância dos vizinhos"
   ]
  },
  {
   "attachments": {},
   "cell_type": "markdown",
   "metadata": {},
   "source": [
    "#### Teste 1 n=3"
   ]
  },
  {
   "cell_type": "code",
   "execution_count": 138,
   "metadata": {},
   "outputs": [
    {
     "name": "stdout",
     "output_type": "stream",
     "text": [
      "Fold 0: 71.43%\n",
      "Fold 1: 79.22%\n",
      "Fold 2: 71.43%\n",
      "Fold 3: 70.13%\n",
      "Fold 4: 75.32%\n",
      "Fold 5: 72.73%\n",
      "Fold 6: 72.73%\n",
      "Fold 7: 81.82%\n",
      "Fold 8: 64.47%\n",
      "Fold 9: 72.37%\n",
      "Acurácia média n3 utilizando mice: 73.16%\n"
     ]
    }
   ],
   "source": [
    "knn_n3 = KNeighborsClassifier(n_neighbors=3, metric='euclidean', weights='distance')\n",
    "\n",
    "acuracia_n3 = []\n",
    "\n",
    "for i, (train_index, test_index) in enumerate(kf.split(X_mice)):\n",
    "    X_train, X_test = X_mice.iloc[train_index], X_mice.iloc[test_index]\n",
    "    y_train, y_test = y_mice.iloc[train_index], y_mice.iloc[test_index]\n",
    "    \n",
    "    knn_n3.fit(X_train, y_train)\n",
    "    \n",
    "    y_pred1 = knn_n3.predict(X_test)\n",
    "    \n",
    "    acuracia = accuracy_score(y_test, y_pred1)\n",
    "    \n",
    "    acuracia_n3.append(acuracia)\n",
    "    \n",
    "    print(f\"Fold {i}: {acuracia*100.0:.2f}%\")\n",
    "    \n",
    "acuracia_media_n3 = sum(acuracia_n3) / len(acuracia_n3) * 100\n",
    "\n",
    "\n",
    "print(\"Acurácia média n3 utilizando mice: {:.2f}%\".format(acuracia_media_n3))"
   ]
  },
  {
   "attachments": {},
   "cell_type": "markdown",
   "metadata": {},
   "source": [
    "#### Teste 2 n=5"
   ]
  },
  {
   "cell_type": "code",
   "execution_count": 139,
   "metadata": {},
   "outputs": [
    {
     "name": "stdout",
     "output_type": "stream",
     "text": [
      "Fold 0: 67.53%\n",
      "Fold 1: 84.42%\n",
      "Fold 2: 75.32%\n",
      "Fold 3: 66.23%\n",
      "Fold 4: 74.03%\n",
      "Fold 5: 74.03%\n",
      "Fold 6: 79.22%\n",
      "Fold 7: 84.42%\n",
      "Fold 8: 71.05%\n",
      "Fold 9: 75.00%\n",
      "Acurácia média n5 utilizando mice: 75.12%\n"
     ]
    }
   ],
   "source": [
    "knn_n5 = KNeighborsClassifier(n_neighbors=5, metric='euclidean', weights='distance')\n",
    "\n",
    "acuracia_n5 = []\n",
    "\n",
    "for i, (train_index, test_index) in enumerate(kf.split(X_mice)):\n",
    "    X_train, X_test = X_mice.iloc[train_index], X_mice.iloc[test_index]\n",
    "    y_train, y_test = y_mice.iloc[train_index], y_mice.iloc[test_index]\n",
    "    \n",
    "    knn_n5.fit(X_train, y_train)\n",
    "    \n",
    "    y_pred1 = knn_n5.predict(X_test)\n",
    "    \n",
    "    acuracia = accuracy_score(y_test, y_pred1)\n",
    "    \n",
    "    acuracia_n5.append(acuracia)\n",
    "    \n",
    "    print(f\"Fold {i}: {acuracia*100.0:.2f}%\")\n",
    "    \n",
    "acuracia_media_n5 = sum(acuracia_n5) / len(acuracia_n5) * 100\n",
    "\n",
    "\n",
    "print(\"Acurácia média n5 utilizando mice: {:.2f}%\".format(acuracia_media_n5))"
   ]
  },
  {
   "attachments": {},
   "cell_type": "markdown",
   "metadata": {},
   "source": [
    "#### Teste 3 n=7"
   ]
  },
  {
   "cell_type": "code",
   "execution_count": 140,
   "metadata": {},
   "outputs": [
    {
     "name": "stdout",
     "output_type": "stream",
     "text": [
      "Fold 0: 67.53%\n",
      "Fold 1: 85.71%\n",
      "Fold 2: 77.92%\n",
      "Fold 3: 66.23%\n",
      "Fold 4: 80.52%\n",
      "Fold 5: 74.03%\n",
      "Fold 6: 77.92%\n",
      "Fold 7: 84.42%\n",
      "Fold 8: 72.37%\n",
      "Fold 9: 76.32%\n",
      "Acurácia média n7 utilizando mice: 76.30%\n"
     ]
    }
   ],
   "source": [
    "knn_n7 = KNeighborsClassifier(n_neighbors=7, metric='euclidean', weights='distance')\n",
    "\n",
    "acuracia_n7 = []\n",
    "\n",
    "for i, (train_index, test_index) in enumerate(kf.split(X_mice)):\n",
    "    X_train, X_test = X_mice.iloc[train_index], X_mice.iloc[test_index]\n",
    "    y_train, y_test = y_mice.iloc[train_index], y_mice.iloc[test_index]\n",
    "    \n",
    "    knn_n7.fit(X_train, y_train)\n",
    "    \n",
    "    y_pred1 = knn_n7.predict(X_test)\n",
    "    \n",
    "    acuracia = accuracy_score(y_test, y_pred1)\n",
    "    \n",
    "    acuracia_n7.append(acuracia)\n",
    "    \n",
    "    print(f\"Fold {i}: {acuracia*100.0:.2f}%\")\n",
    "    \n",
    "acuracia_media_n7 = sum(acuracia_n7) / len(acuracia_n7) * 100\n",
    "\n",
    "\n",
    "print(\"Acurácia média n7 utilizando mice: {:.2f}%\".format(acuracia_media_n7))"
   ]
  },
  {
   "attachments": {},
   "cell_type": "markdown",
   "metadata": {},
   "source": [
    "#### Teste 4 n=9"
   ]
  },
  {
   "cell_type": "code",
   "execution_count": 141,
   "metadata": {},
   "outputs": [
    {
     "name": "stdout",
     "output_type": "stream",
     "text": [
      "Fold 0: 63.64%\n",
      "Fold 1: 85.71%\n",
      "Fold 2: 79.22%\n",
      "Fold 3: 64.94%\n",
      "Fold 4: 79.22%\n",
      "Fold 5: 72.73%\n",
      "Fold 6: 81.82%\n",
      "Fold 7: 81.82%\n",
      "Fold 8: 75.00%\n",
      "Fold 9: 77.63%\n",
      "Acurácia média n9 utilizando mice: 76.17%\n"
     ]
    }
   ],
   "source": [
    "knn_n9 = KNeighborsClassifier(n_neighbors=9, metric='euclidean', weights='distance')\n",
    "\n",
    "acuracia_n9 = []\n",
    "\n",
    "for i, (train_index, test_index) in enumerate(kf.split(X_mice)):\n",
    "    X_train, X_test = X_mice.iloc[train_index], X_mice.iloc[test_index]\n",
    "    y_train, y_test = y_mice.iloc[train_index], y_mice.iloc[test_index]\n",
    "    \n",
    "    knn_n9.fit(X_train, y_train)\n",
    "    \n",
    "    y_pred1 = knn_n9.predict(X_test)\n",
    "    \n",
    "    acuracia = accuracy_score(y_test, y_pred1)\n",
    "    \n",
    "    acuracia_n9.append(acuracia)\n",
    "    \n",
    "    print(f\"Fold {i}: {acuracia*100.0:.2f}%\")\n",
    "    \n",
    "acuracia_media_n9 = sum(acuracia_n9) / len(acuracia_n9) * 100\n",
    "\n",
    "\n",
    "print(\"Acurácia média n9 utilizando mice: {:.2f}%\".format(acuracia_media_n9))"
   ]
  },
  {
   "attachments": {},
   "cell_type": "markdown",
   "metadata": {},
   "source": [
    "#### Teste 5 n=11"
   ]
  },
  {
   "attachments": {},
   "cell_type": "markdown",
   "metadata": {},
   "source": [
    "Varicações de medida de distância feitas anteriormente\n",
    "\n",
    "# Não esquecer de remover"
   ]
  },
  {
   "cell_type": "code",
   "execution_count": 142,
   "metadata": {},
   "outputs": [
    {
     "name": "stdout",
     "output_type": "stream",
     "text": [
      "Fold 0: 64.94%\n",
      "Fold 1: 88.31%\n",
      "Fold 2: 74.03%\n",
      "Fold 3: 63.64%\n",
      "Fold 4: 77.92%\n",
      "Fold 5: 72.73%\n",
      "Fold 6: 81.82%\n",
      "Fold 7: 83.12%\n",
      "Fold 8: 75.00%\n",
      "Fold 9: 78.95%\n",
      "Acurácia média n11 utilizando mice: 76.04%\n"
     ]
    }
   ],
   "source": [
    "knn_n11 = KNeighborsClassifier(n_neighbors=11, metric='euclidean', weights='distance')\n",
    "\n",
    "acuracia_n11 = []\n",
    "\n",
    "for i, (train_index, test_index) in enumerate(kf.split(X_mice)):\n",
    "    X_train, X_test = X_mice.iloc[train_index], X_mice.iloc[test_index]\n",
    "    y_train, y_test = y_mice.iloc[train_index], y_mice.iloc[test_index]\n",
    "    \n",
    "    knn_n11.fit(X_train, y_train)\n",
    "    \n",
    "    y_pred1 = knn_n11.predict(X_test)\n",
    "    \n",
    "    acuracia = accuracy_score(y_test, y_pred1)\n",
    "    \n",
    "    acuracia_n11.append(acuracia)\n",
    "    \n",
    "    print(f\"Fold {i}: {acuracia*100.0:.2f}%\")\n",
    "    \n",
    "acuracia_media_n11 = sum(acuracia_n11) / len(acuracia_n11) * 100\n",
    "\n",
    "\n",
    "print(\"Acurácia média n11 utilizando mice: {:.2f}%\".format(acuracia_media_n11))"
   ]
  },
  {
   "attachments": {},
   "cell_type": "markdown",
   "metadata": {},
   "source": [
    "* Teste 1 - distância de manhattan"
   ]
  },
  {
   "cell_type": "code",
   "execution_count": null,
   "metadata": {},
   "outputs": [
    {
     "name": "stdout",
     "output_type": "stream",
     "text": [
      "Fold 0: 66.23%\n",
      "Fold 1: 84.42%\n",
      "Fold 2: 76.62%\n",
      "Fold 3: 64.94%\n",
      "Fold 4: 81.82%\n",
      "Fold 5: 75.32%\n",
      "Fold 6: 77.92%\n",
      "Fold 7: 80.52%\n",
      "Fold 8: 68.42%\n",
      "Fold 9: 81.58%\n",
      "Acurácia média manhattan com k=7: 75.78%\n"
     ]
    }
   ],
   "source": [
    "knn_manhattan = KNeighborsClassifier(n_neighbors=7, metric='manhattan')\n",
    "\n",
    "acuracia_manhattan = []\n",
    "\n",
    "for i, (train_index, test_index) in enumerate(kf.split(X)):\n",
    "    X_train, X_test = X.iloc[train_index], X.iloc[test_index]\n",
    "    y_train, y_test = y.iloc[train_index], y.iloc[test_index]\n",
    "    \n",
    "    knn_manhattan.fit(X_train, y_train)\n",
    "    \n",
    "    y_pred1 = knn_manhattan.predict(X_test)\n",
    "    \n",
    "    acuracia = accuracy_score(y_test, y_pred1)\n",
    "    \n",
    "    acuracia_manhattan.append(acuracia)\n",
    "    \n",
    "    print(f\"Fold {i}: {acuracia*100.0:.2f}%\")\n",
    "    \n",
    "acuracia_media_manhattan = sum(acuracia_manhattan) / len(acuracia_manhattan) * 100\n",
    "\n",
    "print(\"Acurácia média manhattan com k=7: {:.2f}%\".format(acuracia_media_manhattan))"
   ]
  },
  {
   "cell_type": "code",
   "execution_count": null,
   "metadata": {},
   "outputs": [
    {
     "name": "stdout",
     "output_type": "stream",
     "text": [
      "Fold 0: 66.23%\n",
      "Fold 1: 79.22%\n",
      "Fold 2: 75.32%\n",
      "Fold 3: 67.53%\n",
      "Fold 4: 74.03%\n",
      "Fold 5: 77.92%\n",
      "Fold 6: 80.52%\n",
      "Fold 7: 80.52%\n",
      "Fold 8: 76.32%\n",
      "Fold 9: 75.00%\n",
      "Acurácia média manhattan com k=7: 75.26%\n"
     ]
    }
   ],
   "source": [
    "knn_chebyshev = KNeighborsClassifier(n_neighbors=7, metric='chebyshev')\n",
    "\n",
    "acuracia_chebyshev = []\n",
    "\n",
    "for i, (train_index, test_index) in enumerate(kf.split(X)):\n",
    "    X_train, X_test = X.iloc[train_index], X.iloc[test_index]\n",
    "    y_train, y_test = y.iloc[train_index], y.iloc[test_index]\n",
    "    \n",
    "    knn_chebyshev.fit(X_train, y_train)\n",
    "    \n",
    "    y_pred1 = knn_chebyshev.predict(X_test)\n",
    "    \n",
    "    acuracia = accuracy_score(y_test, y_pred1)\n",
    "    \n",
    "    acuracia_chebyshev.append(acuracia)\n",
    "    \n",
    "    print(f\"Fold {i}: {acuracia*100.0:.2f}%\")\n",
    "    \n",
    "acuracia_media_chebyshev = sum(acuracia_chebyshev) / len(acuracia_chebyshev) * 100\n",
    "\n",
    "print(\"Acurácia média manhattan com k=7: {:.2f}%\".format(acuracia_media_chebyshev))"
   ]
  }
 ],
 "metadata": {
  "kernelspec": {
   "display_name": "Python 3",
   "language": "python",
   "name": "python3"
  },
  "language_info": {
   "codemirror_mode": {
    "name": "ipython",
    "version": 3
   },
   "file_extension": ".py",
   "mimetype": "text/x-python",
   "name": "python",
   "nbconvert_exporter": "python",
   "pygments_lexer": "ipython3",
   "version": "3.9.13"
  },
  "orig_nbformat": 4,
  "vscode": {
   "interpreter": {
    "hash": "3137e636412bd7678261ae97795285e9bce6306561e2f40224ebbf2c6e82d315"
   }
  }
 },
 "nbformat": 4,
 "nbformat_minor": 2
}
